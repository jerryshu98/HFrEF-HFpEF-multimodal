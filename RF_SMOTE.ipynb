{
 "cells": [
  {
   "cell_type": "code",
   "execution_count": 1,
   "id": "db2da039-3b58-4750-9fa8-b4333c39aa94",
   "metadata": {},
   "outputs": [
    {
     "name": "stderr",
     "output_type": "stream",
     "text": [
      "2024-07-07 13:36:09.853495: I tensorflow/core/util/port.cc:113] oneDNN custom operations are on. You may see slightly different numerical results due to floating-point round-off errors from different computation orders. To turn them off, set the environment variable `TF_ENABLE_ONEDNN_OPTS=0`.\n",
      "2024-07-07 13:36:09.884355: E external/local_xla/xla/stream_executor/cuda/cuda_dnn.cc:9261] Unable to register cuDNN factory: Attempting to register factory for plugin cuDNN when one has already been registered\n",
      "2024-07-07 13:36:09.884383: E external/local_xla/xla/stream_executor/cuda/cuda_fft.cc:607] Unable to register cuFFT factory: Attempting to register factory for plugin cuFFT when one has already been registered\n",
      "2024-07-07 13:36:09.885226: E external/local_xla/xla/stream_executor/cuda/cuda_blas.cc:1515] Unable to register cuBLAS factory: Attempting to register factory for plugin cuBLAS when one has already been registered\n",
      "2024-07-07 13:36:09.890444: I tensorflow/core/platform/cpu_feature_guard.cc:182] This TensorFlow binary is optimized to use available CPU instructions in performance-critical operations.\n",
      "To enable the following instructions: AVX2 AVX512F AVX512_VNNI FMA, in other operations, rebuild TensorFlow with the appropriate compiler flags.\n",
      "2024-07-07 13:36:10.599595: W tensorflow/compiler/tf2tensorrt/utils/py_utils.cc:38] TF-TRT Warning: Could not find TensorRT\n"
     ]
    }
   ],
   "source": [
    "import tensorflow as tf\n",
    "import io\n",
    "import numpy as np\n",
    "import cv2 as cv\n",
    "import matplotlib.pyplot as plt\n",
    "from tensorflow import keras\n",
    "from tensorflow.keras import layers, models\n",
    "from tensorflow.keras import Sequential\n",
    "from tensorflow.keras.layers import Dense,Conv2D,MaxPooling2D,Flatten,Dropout, BatchNormalization\n",
    "from tensorflow.keras.preprocessing.image import ImageDataGenerator\n",
    "import pandas as pd\n",
    "from cv2 import imread, IMREAD_GRAYSCALE # IMREAD_GRAYSCALE allow you to load the image as gray scale image\n",
    "from tensorflow.keras.preprocessing.image import ImageDataGenerator\n",
    "import math\n",
    "import csv\n",
    "import gc"
   ]
  },
  {
   "cell_type": "code",
   "execution_count": 2,
   "id": "8cdf0261-e829-4315-aad7-4dc2f4ca28e7",
   "metadata": {},
   "outputs": [
    {
     "name": "stdout",
     "output_type": "stream",
     "text": [
      "Sun Jul  7 13:36:11 2024       \n",
      "+---------------------------------------------------------------------------------------+\n",
      "| NVIDIA-SMI 535.183.01             Driver Version: 535.183.01   CUDA Version: 12.2     |\n",
      "|-----------------------------------------+----------------------+----------------------+\n",
      "| GPU  Name                 Persistence-M | Bus-Id        Disp.A | Volatile Uncorr. ECC |\n",
      "| Fan  Temp   Perf          Pwr:Usage/Cap |         Memory-Usage | GPU-Util  Compute M. |\n",
      "|                                         |                      |               MIG M. |\n",
      "|=========================================+======================+======================|\n",
      "|   0  NVIDIA GeForce RTX 3090        Off | 00000000:65:00.0 Off |                  N/A |\n",
      "| 66%   53C    P2             134W / 370W |    516MiB / 24576MiB |      0%      Default |\n",
      "|                                         |                      |                  N/A |\n",
      "+-----------------------------------------+----------------------+----------------------+\n",
      "|   1  NVIDIA GeForce RTX 3090        Off | 00000000:B3:00.0 Off |                  N/A |\n",
      "|  0%   40C    P5              73W / 370W |   1314MiB / 24576MiB |      0%      Default |\n",
      "|                                         |                      |                  N/A |\n",
      "+-----------------------------------------+----------------------+----------------------+\n",
      "                                                                                         \n",
      "+---------------------------------------------------------------------------------------+\n",
      "| Processes:                                                                            |\n",
      "|  GPU   GI   CI        PID   Type   Process name                            GPU Memory |\n",
      "|        ID   ID                                                             Usage      |\n",
      "|=======================================================================================|\n",
      "|    0   N/A  N/A    381741      C   python                                      510MiB |\n",
      "|    1   N/A  N/A    260171      C   ...yan1211/.conda/envs/test/bin/python     1308MiB |\n",
      "+---------------------------------------------------------------------------------------+\n"
     ]
    }
   ],
   "source": [
    "!nvidia-smi"
   ]
  },
  {
   "cell_type": "code",
   "execution_count": 3,
   "id": "180bff07-71a3-4928-b31d-27e95ff93b1d",
   "metadata": {},
   "outputs": [],
   "source": [
    "file1 = 'LUNA/HF_comorbidities_train.tfrecords'\n",
    "file2 = 'LUNA/HF_comorbidities_valid.tfrecords'\n",
    "file3 = 'LUNA/HF_comorbidities_test.tfrecords'\n",
    "cormorbidities = ['CAD', 'COPD', 'Asthma', 'CKD', 'Diabetes', 'Hypertension', 'ND', 'Dementia', 'LC', 'RibF', 'Pneumothorax', 'Pneumonia']"
   ]
  },
  {
   "cell_type": "code",
   "execution_count": 4,
   "id": "467f174d-d3bd-4534-a880-68c1e7f37539",
   "metadata": {},
   "outputs": [],
   "source": [
    "gpus = tf.config.list_physical_devices(device_type='GPU')\n",
    "tf.config.set_visible_devices(devices=gpus[1], device_type='GPU')"
   ]
  },
  {
   "cell_type": "code",
   "execution_count": 5,
   "id": "46f34e59-f569-4707-9fd0-80181d7373cc",
   "metadata": {},
   "outputs": [
    {
     "name": "stderr",
     "output_type": "stream",
     "text": [
      "2024-07-07 13:36:12.053854: I tensorflow/core/common_runtime/gpu/gpu_device.cc:1929] Created device /job:localhost/replica:0/task:0/device:GPU:0 with 21152 MB memory:  -> device: 1, name: NVIDIA GeForce RTX 3090, pci bus id: 0000:b3:00.0, compute capability: 8.6\n"
     ]
    }
   ],
   "source": [
    "raw_dataset = tf.data.TFRecordDataset(file1)\n",
    "X_train = []\n",
    "Y_train = []\n",
    "\n",
    "for raw_record in raw_dataset:\n",
    "    sub_x = []\n",
    "    sub_y = []\n",
    "\n",
    "    example = tf.train.Example()\n",
    "    example.ParseFromString(raw_record.numpy())\n",
    "\n",
    "    sub_y.append(example.features.feature['Label'].int64_list.value[0])\n",
    "    # temp = np.zeros(5)\n",
    "    # i = example.features.feature['Race'].int64_list.value[0]\n",
    "    # temp[i] = 1\n",
    "    # sub_x.append(temp)\n",
    "    sub_x.append(example.features.feature['Race'].int64_list.value[0])\n",
    "    sub_x.append(example.features.feature['Age'].int64_list.value[0])\n",
    "    sub_x.append(example.features.feature['Gender'].int64_list.value[0])\n",
    "    for idx in range(12):\n",
    "        sub_x.append(example.features.feature[cormorbidities[idx]].int64_list.value[0])\n",
    "\n",
    "    X_train.append(sub_x)\n",
    "    Y_train.append(sub_y)\n",
    "\n",
    "X_train = np.array(X_train)\n",
    "X_train = X_train.astype(np.int64)\n",
    "Y_train = np.array(Y_train)\n",
    "Y_train = Y_train.astype(np.int64)"
   ]
  },
  {
   "cell_type": "code",
   "execution_count": 6,
   "id": "acf4e49c-c0d6-4315-bd02-323e1b8caa96",
   "metadata": {},
   "outputs": [],
   "source": [
    "raw_dataset = tf.data.TFRecordDataset(file2)\n",
    "X_valid = []\n",
    "Y_valid = []\n",
    "\n",
    "for raw_record in raw_dataset:\n",
    "    sub_x = []\n",
    "    sub_y = []\n",
    "\n",
    "    example = tf.train.Example()\n",
    "    example.ParseFromString(raw_record.numpy())\n",
    "\n",
    "    # Y_valid.append(example.features.feature['Label'].int64_list.value[0])\n",
    "    sub_y.append(example.features.feature['Label'].int64_list.value[0])\n",
    "    # temp = np.zeros(5)\n",
    "    # i = example.features.feature['Race'].int64_list.value[0]\n",
    "    # temp[i] = 1\n",
    "    # sub_x.append(temp)\n",
    "    sub_x.append(example.features.feature['Race'].int64_list.value[0])\n",
    "    sub_x.append(example.features.feature['Age'].int64_list.value[0])\n",
    "    sub_x.append(example.features.feature['Gender'].int64_list.value[0])\n",
    "    for idx in range(12):\n",
    "        sub_x.append(example.features.feature[cormorbidities[idx]].int64_list.value[0])\n",
    "    \n",
    "    X_valid.append(sub_x)\n",
    "    Y_valid.append(sub_y)\n",
    "\n",
    "X_valid = np.array(X_valid)\n",
    "X_valid = X_valid.astype(np.int64)\n",
    "Y_valid = np.array(Y_valid)\n",
    "Y_valid = Y_valid.astype(np.int64)"
   ]
  },
  {
   "cell_type": "code",
   "execution_count": 7,
   "id": "320f37d1-014a-4bed-8ad4-122ea7b14e1f",
   "metadata": {},
   "outputs": [],
   "source": [
    "raw_dataset = tf.data.TFRecordDataset(file3)\n",
    "X_test = []\n",
    "Y_test = []\n",
    "\n",
    "for raw_record in raw_dataset:\n",
    "    sub_x = []\n",
    "    sub_y = []\n",
    "\n",
    "    example = tf.train.Example()\n",
    "    example.ParseFromString(raw_record.numpy())\n",
    "\n",
    "    Y_test.append(example.features.feature['Label'].int64_list.value[0])\n",
    "    # temp = np.zeros(5)\n",
    "    # i = example.features.feature['Race'].int64_list.value[0]\n",
    "    # temp[i] = 1\n",
    "    # sub_x.append(temp)\n",
    "    sub_x.append(example.features.feature['Race'].int64_list.value[0])\n",
    "    sub_x.append(example.features.feature['Age'].int64_list.value[0])\n",
    "    sub_x.append(example.features.feature['Gender'].int64_list.value[0])\n",
    "    for idx in range(12):\n",
    "        sub_x.append(example.features.feature[cormorbidities[idx]].int64_list.value[0])\n",
    "\n",
    "    X_test.append(sub_x)\n",
    "    # Y_test.append(sub_y)\n",
    "\n",
    "X_test = np.array(X_test)\n",
    "X_test = X_test.astype(np.int64)\n",
    "Y_test = np.array(Y_test)\n",
    "Y_test = Y_test.astype(np.int64)"
   ]
  },
  {
   "cell_type": "code",
   "execution_count": 8,
   "id": "940a55cf-e179-469d-a68e-28e67f848075",
   "metadata": {},
   "outputs": [
    {
     "name": "stdout",
     "output_type": "stream",
     "text": [
      "[[1 2]]\n"
     ]
    }
   ],
   "source": [
    "a=np.array([[1, 2, 3, 4, 5]])\n",
    "b=[0, 1]\n",
    "print(a[:, b])"
   ]
  },
  {
   "cell_type": "code",
   "execution_count": 9,
   "id": "2a202d89-63bd-432d-9b1e-228e08a85cab",
   "metadata": {},
   "outputs": [],
   "source": [
    "X_train=np.vstack([X_train, X_valid])\n",
    "# print(X_train_resampled.shape)\n",
    "Y_train=np.vstack([Y_train, Y_valid])\n",
    "# print(Y_train_resampled.shape)"
   ]
  },
  {
   "cell_type": "code",
   "execution_count": 10,
   "id": "c9968f66-d172-4796-a728-91a3eef6c026",
   "metadata": {},
   "outputs": [],
   "source": [
    "# from imblearn.over_sampling import SMOTE\n",
    "# from sklearn.utils import shuffle\n",
    "\n",
    "# smote = SMOTE(random_state=42)\n",
    "# selected_features = [0, 1, 2]\n",
    "# X_smote = X_train[:, selected_features]\n",
    "\n",
    "# X_smote_resampled, Y_smote_resampled = smote.fit_resample(X_smote, Y_train)\n",
    "# num_samples = len(X_smote_resampled) - len(X_train)\n",
    "\n",
    "# # Randomly select matching samples from X_remaining and Y_train\n",
    "# rng = np.random.default_rng(seed=42)  # Adjust seed as needed\n",
    "# indices = rng.choice(X_train.shape[0], num_samples, replace=False)\n",
    "\n",
    "# X_selected = X_train[indices, :]\n",
    "# Y_selected = Y_train[indices]\n",
    "\n",
    "# # Combine the resampled columns with the remaining data\n",
    "# X_combined = np.vstack((X_train, X_selected))\n",
    "# Y_combined = np.vstack((Y_train, Y_selected))\n",
    "\n",
    "# X_train_resampled = X_combined\n",
    "# Y_train_resampled = Y_combined\n",
    "\n",
    "# # X_train_resampled, Y_train_resampled = shuffle(X_combined, Y_combined, random_state=42)"
   ]
  },
  {
   "cell_type": "code",
   "execution_count": 11,
   "id": "8e9a9c5a-7af6-47e1-8e59-6874b8edcc89",
   "metadata": {},
   "outputs": [],
   "source": [
    "# # from imblearn.over_sampling import SMOTE\n",
    "\n",
    "# smote = SMOTE(random_state=42)\n",
    "# # features_to_resample = [0, 1, 2]\n",
    "# # print(len(X_train))\n",
    "# X_train_resampled, Y_train_resampled = smote.fit_resample(X_train, Y_train)\n",
    "# X_valid_resampled, Y_valid_resampled = smote.fit_resample(X_valid, Y_valid)\n",
    "# # X_train_resampled_full = np.zeros((X_train_resampled_features.shape[0], X_train.shape[1]))\n",
    "# # X_train_resampled_full[:, features_to_resample] = X_train_resampled_features\n"
   ]
  },
  {
   "cell_type": "code",
   "execution_count": 13,
   "id": "803ea4cd-8ced-4628-b90b-9bfd51a3cb23",
   "metadata": {},
   "outputs": [
    {
     "name": "stdout",
     "output_type": "stream",
     "text": [
      "(3506, 15) (3506, 1)\n",
      "(809, 15) (809, 1)\n",
      "(347, 15) (347,)\n",
      "(3506, 15) (3506, 1)\n"
     ]
    }
   ],
   "source": [
    "print(X_train.shape, Y_train.shape)\n",
    "print(X_valid.shape, Y_valid.shape)\n",
    "print(X_test.shape, Y_test.shape)\n",
    "X_train_resampled = X_train\n",
    "Y_train_resampled = Y_train\n",
    "print(X_train_resampled.shape, Y_train_resampled.shape)\n",
    "# print(X_valid_resampled.shape, Y_valid_resampled.shape)"
   ]
  },
  {
   "cell_type": "code",
   "execution_count": 14,
   "id": "601cefe7-a5bb-4094-b3bb-2a9d03369e45",
   "metadata": {},
   "outputs": [],
   "source": [
    "from sklearn.model_selection import train_test_split\n",
    "import pandas as pd\n",
    "import numpy as np\n",
    "from keras.models import Sequential\n",
    "from keras.layers import Dense, Activation, Flatten\n",
    "from sklearn.ensemble import RandomForestClassifier\n",
    "from sklearn.metrics import f1_score\n",
    "from sklearn.metrics import accuracy_score\n",
    "from keras.callbacks import ModelCheckpoint\n",
    "from sklearn.metrics import roc_curve, auc, roc_auc_score"
   ]
  },
  {
   "cell_type": "code",
   "execution_count": 15,
   "id": "80a0a9b6-bb8d-400e-89e7-a189eff82da5",
   "metadata": {},
   "outputs": [],
   "source": [
    "parameters = {'bootstrap': True,\n",
    "              'min_samples_leaf': 3,\n",
    "              'n_estimators': 50, \n",
    "              'min_samples_split': 10,\n",
    "              'max_features': 'sqrt',\n",
    "              'max_depth': 6,\n",
    "              'max_leaf_nodes': None}"
   ]
  },
  {
   "cell_type": "code",
   "execution_count": 16,
   "id": "c64b458d-1eb8-4a9b-8732-6c31a3046015",
   "metadata": {},
   "outputs": [
    {
     "name": "stderr",
     "output_type": "stream",
     "text": [
      "/home/jupyter-ryan1211/.conda/envs/test/lib/python3.9/site-packages/sklearn/base.py:1152: DataConversionWarning: A column-vector y was passed when a 1d array was expected. Please change the shape of y to (n_samples,), for example using ravel().\n",
      "  return fit_method(estimator, *args, **kwargs)\n"
     ]
    },
    {
     "data": {
      "text/html": [
       "<style>#sk-container-id-1 {color: black;}#sk-container-id-1 pre{padding: 0;}#sk-container-id-1 div.sk-toggleable {background-color: white;}#sk-container-id-1 label.sk-toggleable__label {cursor: pointer;display: block;width: 100%;margin-bottom: 0;padding: 0.3em;box-sizing: border-box;text-align: center;}#sk-container-id-1 label.sk-toggleable__label-arrow:before {content: \"▸\";float: left;margin-right: 0.25em;color: #696969;}#sk-container-id-1 label.sk-toggleable__label-arrow:hover:before {color: black;}#sk-container-id-1 div.sk-estimator:hover label.sk-toggleable__label-arrow:before {color: black;}#sk-container-id-1 div.sk-toggleable__content {max-height: 0;max-width: 0;overflow: hidden;text-align: left;background-color: #f0f8ff;}#sk-container-id-1 div.sk-toggleable__content pre {margin: 0.2em;color: black;border-radius: 0.25em;background-color: #f0f8ff;}#sk-container-id-1 input.sk-toggleable__control:checked~div.sk-toggleable__content {max-height: 200px;max-width: 100%;overflow: auto;}#sk-container-id-1 input.sk-toggleable__control:checked~label.sk-toggleable__label-arrow:before {content: \"▾\";}#sk-container-id-1 div.sk-estimator input.sk-toggleable__control:checked~label.sk-toggleable__label {background-color: #d4ebff;}#sk-container-id-1 div.sk-label input.sk-toggleable__control:checked~label.sk-toggleable__label {background-color: #d4ebff;}#sk-container-id-1 input.sk-hidden--visually {border: 0;clip: rect(1px 1px 1px 1px);clip: rect(1px, 1px, 1px, 1px);height: 1px;margin: -1px;overflow: hidden;padding: 0;position: absolute;width: 1px;}#sk-container-id-1 div.sk-estimator {font-family: monospace;background-color: #f0f8ff;border: 1px dotted black;border-radius: 0.25em;box-sizing: border-box;margin-bottom: 0.5em;}#sk-container-id-1 div.sk-estimator:hover {background-color: #d4ebff;}#sk-container-id-1 div.sk-parallel-item::after {content: \"\";width: 100%;border-bottom: 1px solid gray;flex-grow: 1;}#sk-container-id-1 div.sk-label:hover label.sk-toggleable__label {background-color: #d4ebff;}#sk-container-id-1 div.sk-serial::before {content: \"\";position: absolute;border-left: 1px solid gray;box-sizing: border-box;top: 0;bottom: 0;left: 50%;z-index: 0;}#sk-container-id-1 div.sk-serial {display: flex;flex-direction: column;align-items: center;background-color: white;padding-right: 0.2em;padding-left: 0.2em;position: relative;}#sk-container-id-1 div.sk-item {position: relative;z-index: 1;}#sk-container-id-1 div.sk-parallel {display: flex;align-items: stretch;justify-content: center;background-color: white;position: relative;}#sk-container-id-1 div.sk-item::before, #sk-container-id-1 div.sk-parallel-item::before {content: \"\";position: absolute;border-left: 1px solid gray;box-sizing: border-box;top: 0;bottom: 0;left: 50%;z-index: -1;}#sk-container-id-1 div.sk-parallel-item {display: flex;flex-direction: column;z-index: 1;position: relative;background-color: white;}#sk-container-id-1 div.sk-parallel-item:first-child::after {align-self: flex-end;width: 50%;}#sk-container-id-1 div.sk-parallel-item:last-child::after {align-self: flex-start;width: 50%;}#sk-container-id-1 div.sk-parallel-item:only-child::after {width: 0;}#sk-container-id-1 div.sk-dashed-wrapped {border: 1px dashed gray;margin: 0 0.4em 0.5em 0.4em;box-sizing: border-box;padding-bottom: 0.4em;background-color: white;}#sk-container-id-1 div.sk-label label {font-family: monospace;font-weight: bold;display: inline-block;line-height: 1.2em;}#sk-container-id-1 div.sk-label-container {text-align: center;}#sk-container-id-1 div.sk-container {/* jupyter's `normalize.less` sets `[hidden] { display: none; }` but bootstrap.min.css set `[hidden] { display: none !important; }` so we also need the `!important` here to be able to override the default hidden behavior on the sphinx rendered scikit-learn.org. See: https://github.com/scikit-learn/scikit-learn/issues/21755 */display: inline-block !important;position: relative;}#sk-container-id-1 div.sk-text-repr-fallback {display: none;}</style><div id=\"sk-container-id-1\" class=\"sk-top-container\"><div class=\"sk-text-repr-fallback\"><pre>RandomForestClassifier(max_depth=6, min_samples_leaf=3, min_samples_split=10,\n",
       "                       n_estimators=50)</pre><b>In a Jupyter environment, please rerun this cell to show the HTML representation or trust the notebook. <br />On GitHub, the HTML representation is unable to render, please try loading this page with nbviewer.org.</b></div><div class=\"sk-container\" hidden><div class=\"sk-item\"><div class=\"sk-estimator sk-toggleable\"><input class=\"sk-toggleable__control sk-hidden--visually\" id=\"sk-estimator-id-1\" type=\"checkbox\" checked><label for=\"sk-estimator-id-1\" class=\"sk-toggleable__label sk-toggleable__label-arrow\">RandomForestClassifier</label><div class=\"sk-toggleable__content\"><pre>RandomForestClassifier(max_depth=6, min_samples_leaf=3, min_samples_split=10,\n",
       "                       n_estimators=50)</pre></div></div></div></div></div>"
      ],
      "text/plain": [
       "RandomForestClassifier(max_depth=6, min_samples_leaf=3, min_samples_split=10,\n",
       "                       n_estimators=50)"
      ]
     },
     "execution_count": 16,
     "metadata": {},
     "output_type": "execute_result"
    }
   ],
   "source": [
    "RF_model = RandomForestClassifier(**parameters)\n",
    "RF_model.fit(X_train_resampled, Y_train_resampled)"
   ]
  },
  {
   "cell_type": "code",
   "execution_count": 17,
   "id": "3c8447b7-524c-4ddc-8074-2d741ac7d468",
   "metadata": {},
   "outputs": [
    {
     "name": "stdout",
     "output_type": "stream",
     "text": [
      "0.6167146974063401\n"
     ]
    }
   ],
   "source": [
    "RF_predictions = RF_model.predict(X_test)\n",
    "score = accuracy_score(Y_test ,RF_predictions)\n",
    "print(score)"
   ]
  },
  {
   "cell_type": "code",
   "execution_count": 18,
   "id": "550a1a20-d42a-4136-b1e1-12ccb04d1f02",
   "metadata": {},
   "outputs": [
    {
     "data": {
      "text/plain": [
       "0.6811096211867247"
      ]
     },
     "execution_count": 18,
     "metadata": {},
     "output_type": "execute_result"
    }
   ],
   "source": [
    "y_pred_prob = RF_model.predict_proba(X_test)[:, 1] \n",
    "# fpr, tpr, thresholds = roc_curve(y_test, y_pred_prob, pos_label=1)\n",
    "roc_auc = roc_auc_score(Y_test, y_pred_prob) \n",
    "roc_auc"
   ]
  },
  {
   "cell_type": "code",
   "execution_count": 19,
   "id": "e34e2d03-2e88-4b6e-94a0-1b7f8374efba",
   "metadata": {},
   "outputs": [
    {
     "name": "stdout",
     "output_type": "stream",
     "text": [
      "Confusion Matrix:\n",
      "[[ 61  96]\n",
      " [ 37 153]]\n"
     ]
    },
    {
     "data": {
      "image/png": "[encoded data removed]",
      "text/plain": [
       "<Figure size 640x480 with 2 Axes>"
      ]
     },
     "metadata": {},
     "output_type": "display_data"
    }
   ],
   "source": [
    "from sklearn.metrics import confusion_matrix\n",
    "import seaborn as sns\n",
    "import matplotlib.pyplot as plt\n",
    "# Compute and display the confusion matrix\n",
    "cm = confusion_matrix(Y_test, RF_predictions)\n",
    "print(\"Confusion Matrix:\")\n",
    "print(cm)\n",
    "sns.heatmap(cm, annot=True, fmt='g')\n",
    "plt.xlabel('Predicted')\n",
    "plt.ylabel('True')\n",
    "plt.title('Confusion Matrix')\n",
    "plt.show()"
   ]
  },
  {
   "cell_type": "code",
   "execution_count": 20,
   "id": "90a10226-5f9a-461b-90c3-6a71824b46d5",
   "metadata": {},
   "outputs": [],
   "source": [
    "importances = RF_model.feature_importances_"
   ]
  },
  {
   "cell_type": "code",
   "execution_count": 21,
   "id": "cbaa152d-0bda-477c-9bd7-9ed3bc7ec11a",
   "metadata": {},
   "outputs": [
    {
     "name": "stdout",
     "output_type": "stream",
     "text": [
      "[0.06940309 0.08566566 0.33582746 0.07410858 0.14014081 0.04424331\n",
      " 0.02478847 0.04758379 0.03356782 0.03157676 0.02354107 0.01620108\n",
      " 0.03148059 0.01030935 0.03156217]\n"
     ]
    }
   ],
   "source": [
    "print(importances)"
   ]
  },
  {
   "cell_type": "code",
   "execution_count": 22,
   "id": "3845e2be-46cf-41d6-bbea-13807f00e499",
   "metadata": {},
   "outputs": [
    {
     "name": "stderr",
     "output_type": "stream",
     "text": [
      "/home/jupyter-ryan1211/.conda/envs/test/lib/python3.9/site-packages/sklearn/base.py:1152: DataConversionWarning: A column-vector y was passed when a 1d array was expected. Please change the shape of y to (n_samples,), for example using ravel().\n",
      "  return fit_method(estimator, *args, **kwargs)\n"
     ]
    },
    {
     "data": {
      "text/html": [
       "<style>#sk-container-id-2 {color: black;}#sk-container-id-2 pre{padding: 0;}#sk-container-id-2 div.sk-toggleable {background-color: white;}#sk-container-id-2 label.sk-toggleable__label {cursor: pointer;display: block;width: 100%;margin-bottom: 0;padding: 0.3em;box-sizing: border-box;text-align: center;}#sk-container-id-2 label.sk-toggleable__label-arrow:before {content: \"▸\";float: left;margin-right: 0.25em;color: #696969;}#sk-container-id-2 label.sk-toggleable__label-arrow:hover:before {color: black;}#sk-container-id-2 div.sk-estimator:hover label.sk-toggleable__label-arrow:before {color: black;}#sk-container-id-2 div.sk-toggleable__content {max-height: 0;max-width: 0;overflow: hidden;text-align: left;background-color: #f0f8ff;}#sk-container-id-2 div.sk-toggleable__content pre {margin: 0.2em;color: black;border-radius: 0.25em;background-color: #f0f8ff;}#sk-container-id-2 input.sk-toggleable__control:checked~div.sk-toggleable__content {max-height: 200px;max-width: 100%;overflow: auto;}#sk-container-id-2 input.sk-toggleable__control:checked~label.sk-toggleable__label-arrow:before {content: \"▾\";}#sk-container-id-2 div.sk-estimator input.sk-toggleable__control:checked~label.sk-toggleable__label {background-color: #d4ebff;}#sk-container-id-2 div.sk-label input.sk-toggleable__control:checked~label.sk-toggleable__label {background-color: #d4ebff;}#sk-container-id-2 input.sk-hidden--visually {border: 0;clip: rect(1px 1px 1px 1px);clip: rect(1px, 1px, 1px, 1px);height: 1px;margin: -1px;overflow: hidden;padding: 0;position: absolute;width: 1px;}#sk-container-id-2 div.sk-estimator {font-family: monospace;background-color: #f0f8ff;border: 1px dotted black;border-radius: 0.25em;box-sizing: border-box;margin-bottom: 0.5em;}#sk-container-id-2 div.sk-estimator:hover {background-color: #d4ebff;}#sk-container-id-2 div.sk-parallel-item::after {content: \"\";width: 100%;border-bottom: 1px solid gray;flex-grow: 1;}#sk-container-id-2 div.sk-label:hover label.sk-toggleable__label {background-color: #d4ebff;}#sk-container-id-2 div.sk-serial::before {content: \"\";position: absolute;border-left: 1px solid gray;box-sizing: border-box;top: 0;bottom: 0;left: 50%;z-index: 0;}#sk-container-id-2 div.sk-serial {display: flex;flex-direction: column;align-items: center;background-color: white;padding-right: 0.2em;padding-left: 0.2em;position: relative;}#sk-container-id-2 div.sk-item {position: relative;z-index: 1;}#sk-container-id-2 div.sk-parallel {display: flex;align-items: stretch;justify-content: center;background-color: white;position: relative;}#sk-container-id-2 div.sk-item::before, #sk-container-id-2 div.sk-parallel-item::before {content: \"\";position: absolute;border-left: 1px solid gray;box-sizing: border-box;top: 0;bottom: 0;left: 50%;z-index: -1;}#sk-container-id-2 div.sk-parallel-item {display: flex;flex-direction: column;z-index: 1;position: relative;background-color: white;}#sk-container-id-2 div.sk-parallel-item:first-child::after {align-self: flex-end;width: 50%;}#sk-container-id-2 div.sk-parallel-item:last-child::after {align-self: flex-start;width: 50%;}#sk-container-id-2 div.sk-parallel-item:only-child::after {width: 0;}#sk-container-id-2 div.sk-dashed-wrapped {border: 1px dashed gray;margin: 0 0.4em 0.5em 0.4em;box-sizing: border-box;padding-bottom: 0.4em;background-color: white;}#sk-container-id-2 div.sk-label label {font-family: monospace;font-weight: bold;display: inline-block;line-height: 1.2em;}#sk-container-id-2 div.sk-label-container {text-align: center;}#sk-container-id-2 div.sk-container {/* jupyter's `normalize.less` sets `[hidden] { display: none; }` but bootstrap.min.css set `[hidden] { display: none !important; }` so we also need the `!important` here to be able to override the default hidden behavior on the sphinx rendered scikit-learn.org. See: https://github.com/scikit-learn/scikit-learn/issues/21755 */display: inline-block !important;position: relative;}#sk-container-id-2 div.sk-text-repr-fallback {display: none;}</style><div id=\"sk-container-id-2\" class=\"sk-top-container\"><div class=\"sk-text-repr-fallback\"><pre>RandomForestClassifier(random_state=0)</pre><b>In a Jupyter environment, please rerun this cell to show the HTML representation or trust the notebook. <br />On GitHub, the HTML representation is unable to render, please try loading this page with nbviewer.org.</b></div><div class=\"sk-container\" hidden><div class=\"sk-item\"><div class=\"sk-estimator sk-toggleable\"><input class=\"sk-toggleable__control sk-hidden--visually\" id=\"sk-estimator-id-2\" type=\"checkbox\" checked><label for=\"sk-estimator-id-2\" class=\"sk-toggleable__label sk-toggleable__label-arrow\">RandomForestClassifier</label><div class=\"sk-toggleable__content\"><pre>RandomForestClassifier(random_state=0)</pre></div></div></div></div></div>"
      ],
      "text/plain": [
       "RandomForestClassifier(random_state=0)"
      ]
     },
     "execution_count": 22,
     "metadata": {},
     "output_type": "execute_result"
    }
   ],
   "source": [
    "from sklearn.datasets import make_classification\n",
    "X, y = make_classification(\n",
    "    n_samples=1000,\n",
    "    n_features=10,\n",
    "    n_informative=3,\n",
    "    n_redundant=0,\n",
    "    n_repeated=0,\n",
    "    n_classes=3,\n",
    "    random_state=0,\n",
    "    shuffle=False,\n",
    ")\n",
    "forest = RandomForestClassifier(random_state=0)\n",
    "forest.fit(X_train_resampled, Y_train_resampled)"
   ]
  },
  {
   "cell_type": "code",
   "execution_count": 23,
   "id": "1b7ae26f-9ee7-4894-8a61-0eed9b8d6385",
   "metadata": {},
   "outputs": [
    {
     "name": "stdout",
     "output_type": "stream",
     "text": [
      "0.6801152737752162\n"
     ]
    }
   ],
   "source": [
    "forest_predictions = forest.predict(X_test)\n",
    "score = accuracy_score(Y_test ,forest_predictions)\n",
    "print(score)"
   ]
  },
  {
   "cell_type": "code",
   "execution_count": 24,
   "id": "48fde5c5-57c8-49fd-82aa-e2ef7fed9dd2",
   "metadata": {},
   "outputs": [
    {
     "name": "stdout",
     "output_type": "stream",
     "text": [
      "0.7413342272879652\n"
     ]
    }
   ],
   "source": [
    "y_pred_prob = forest.predict_proba(X_test)[:, 1] \n",
    "# fpr, tpr, thresholds = roc_curve(y_test, y_pred_prob, pos_label=1)\n",
    "roc_auc = roc_auc_score(Y_test, y_pred_prob) \n",
    "print(roc_auc)"
   ]
  },
  {
   "cell_type": "code",
   "execution_count": 25,
   "id": "9176ce95-3825-4362-be6c-367fb0fc3da1",
   "metadata": {},
   "outputs": [
    {
     "data": {
      "text/plain": [
       "0.7413342272879652"
      ]
     },
     "execution_count": 25,
     "metadata": {},
     "output_type": "execute_result"
    }
   ],
   "source": [
    "from Utils import * \n",
    "\n",
    "fpr, tpr, threshes =metrics.roc_curve(Y_test, y_pred_prob)\n",
    "best_thresh = get_optimal_youden_threshold(tpr, fpr, threshes)\n",
    "metrics.auc(fpr, tpr)"
   ]
  },
  {
   "cell_type": "code",
   "execution_count": 26,
   "id": "a4b6c46d-bf4d-4176-adca-1324c49129c6",
   "metadata": {},
   "outputs": [
    {
     "name": "stdout",
     "output_type": "stream",
     "text": [
      "[0.75971489 0.85513456 1.         0.79251234 1.         0.07790043\n",
      " 0.92887626 0.72381571 0.57459662 0.38857937 1.         0.78481646\n",
      " 0.74396032 0.99166667 0.59982585 0.37785867 0.4307381  1.\n",
      " 1.         0.5031535  0.1734131  0.43232937 0.26391905 0.89747619\n",
      " 0.04       0.92202381 0.9        0.61460029 0.56228571 0.8\n",
      " 0.99166667 0.59982585 0.18539311 0.40699782 0.01       0.9305\n",
      " 0.62643285 0.5029612  0.43416667 0.2335873  0.75999867 0.42484416\n",
      " 0.65409151 0.92963124 0.53829274 0.93       0.50853725 0.41489932\n",
      " 0.         0.865      0.3676189  0.40950527 0.85513456 0.18602381\n",
      " 0.5031535  1.         0.43       0.73       0.59695465 0.89095245\n",
      " 0.49720924 0.         0.55       0.95       0.76456635 1.\n",
      " 0.62573658 0.98527778 0.45091157 0.59900455 0.41159306 0.40950527\n",
      " 0.78481646 0.02       0.0525     0.945      1.         0.64703523\n",
      " 0.1734131  0.         0.32435384 0.1382619  0.07       0.16159524\n",
      " 0.5150066  0.90512821 0.80277035 0.53384318 1.         0.90062728\n",
      " 0.977      0.59900455 0.04333333 0.98547619 0.54650812 0.03857143\n",
      " 0.59982585 0.71081051 0.         0.53384318 1.         0.62573658\n",
      " 0.54650812 0.62178419 0.90062728 0.76536331 0.16028338 0.19142857\n",
      " 0.76536331 0.19212282 0.72929605 0.32435384 0.         0.64703523\n",
      " 0.76456635 0.53384318 0.02       0.4845     0.26216667 0.58643651\n",
      " 0.34292857 0.97       0.18602381 0.6075     0.44650174 0.32435384\n",
      " 0.95390476 0.92887626 0.59980952 0.72385966 0.26391905 0.53384318\n",
      " 0.51846374 0.71       0.97767316 0.40699782 0.76456635 0.18950109\n",
      " 0.         0.879      0.92032689 0.21051623 1.         0.99\n",
      " 0.43464178 0.54650812 0.92       0.57751587 0.67028316 0.76456635\n",
      " 0.78480519 0.75766667 0.89371012 0.93640464 0.94441725 0.62573658\n",
      " 1.         0.695      0.995      0.         0.2285172  0.80277035\n",
      " 0.57692728 0.32665079 0.35691416 1.         0.50853725 0.21\n",
      " 0.585      0.64504832 0.50853725 0.78481646 0.30810176 0.996\n",
      " 0.44650174 0.83090465 0.37785867 0.71796278 0.43464178 0.20725021\n",
      " 0.30810176 0.58087072 0.11216504 0.46774603 1.         0.44650174\n",
      " 0.76456635 0.78342207 0.92       0.63143209 0.01684524 0.33753155\n",
      " 0.32466667 0.56356078 0.93738095 0.62643285 1.         0.18378455\n",
      " 0.42151479 0.32435384 0.5150066  0.095      0.7925     0.5891052\n",
      " 0.32435384 0.31821429 0.32466667 0.01684524 0.68509959 0.93640464\n",
      " 0.33793723 0.5891052  0.49720924 0.9905     0.19212282 0.339\n",
      " 0.49553458 0.84360744 0.79775008 0.11104024 0.20725021 0.59695465\n",
      " 0.98       0.025      0.6955463  0.50853725 0.42151479 0.75491739\n",
      " 0.62643285 0.92202381 1.         0.215      0.52699206 0.93913095\n",
      " 0.01426667 0.56356078 0.88642213 0.53288095 0.456      1.\n",
      " 0.13       0.32942857 0.35926982 0.8625     0.61301007 0.49553458\n",
      " 0.73230447 0.47157493 0.98333333 0.28       0.985      0.03\n",
      " 0.78481646 0.59380833 0.59799725 0.76651515 0.0965     0.79\n",
      " 0.33666667 0.59799725 0.80366964 0.80666667 0.         0.81471235\n",
      " 0.18950109 0.84360744 0.1621627  0.71796278 0.85580952 0.18950109\n",
      " 0.01       0.53703968 0.89233766 0.76456635 0.04       0.01\n",
      " 0.42192308 0.19212282 0.52710379 0.68666667 0.24816667 0.23571918\n",
      " 0.9190989  0.821114   0.96       0.1734131  0.32435384 0.25322928\n",
      " 1.         0.89916667 0.9468355  1.         0.51846374 0.49661905\n",
      " 0.5150066  0.75766667 0.76536331 0.50853725 0.43416667 0.92887626\n",
      " 0.95951389 1.         0.65409151 0.75374603 0.78481646 0.44621825\n",
      " 0.94777064 0.70427778 0.56148143 1.         0.62573658 0.59900455\n",
      " 0.54650812 0.01       0.76920979 0.98791045 1.         0.65662626\n",
      " 0.32466667 0.93144971 0.92202381 0.30112474 0.88       0.79699603\n",
      " 0.49981638 0.44276696 0.13916441 1.         0.88642213 0.80122286\n",
      " 0.47914948 0.48349149 0.32435384 1.         0.67028316 0.99166667\n",
      " 0.99       0.68812321 0.40699782 0.36       0.84416667 0.72701515\n",
      " 1.         0.70014286 1.         0.94441725 0.96      ]\n"
     ]
    }
   ],
   "source": [
    "print(y_pred_prob)"
   ]
  },
  {
   "cell_type": "code",
   "execution_count": 27,
   "id": "80ac65a7-32d5-4e8f-8e33-a21b85a1aff3",
   "metadata": {},
   "outputs": [
    {
     "data": {
      "text/plain": [
       "['random_forest_model_plus.joblib']"
      ]
     },
     "execution_count": 27,
     "metadata": {},
     "output_type": "execute_result"
    }
   ],
   "source": [
    "from joblib import dump, load\n",
    "\n",
    "dump(forest, 'random_forest_model_plus.joblib')\n",
    "\n",
    "# loaded_model = load('random_forest_model.joblib')"
   ]
  },
  {
   "cell_type": "code",
   "execution_count": 28,
   "id": "a2142308-5c94-4b1a-97d5-926a115f2c2f",
   "metadata": {},
   "outputs": [
    {
     "name": "stdout",
     "output_type": "stream",
     "text": [
      "Confusion Matrix:\n",
      "[[ 87  70]\n",
      " [ 41 149]]\n"
     ]
    },
    {
     "data": {
      "image/png": "[encoded data removed]",
      "text/plain": [
       "<Figure size 640x480 with 2 Axes>"
      ]
     },
     "metadata": {},
     "output_type": "display_data"
    }
   ],
   "source": [
    "from sklearn.metrics import confusion_matrix\n",
    "import seaborn as sns\n",
    "import matplotlib.pyplot as plt\n",
    "# Compute and display the confusion matrix\n",
    "cm = confusion_matrix(Y_test, forest_predictions)\n",
    "print(\"Confusion Matrix:\")\n",
    "print(cm)\n",
    "sns.heatmap(cm, annot=True, fmt='g')\n",
    "plt.xlabel('Predicted')\n",
    "plt.ylabel('True')\n",
    "plt.title('Confusion Matrix')\n",
    "plt.show()"
   ]
  },
  {
   "cell_type": "code",
   "execution_count": 29,
   "id": "9595770f-8d7d-408d-8221-02df7eb436b2",
   "metadata": {},
   "outputs": [],
   "source": [
    "importances = forest.feature_importances_"
   ]
  },
  {
   "cell_type": "code",
   "execution_count": 30,
   "id": "f23978bc-4374-4968-9741-2bfec670f43c",
   "metadata": {},
   "outputs": [
    {
     "name": "stdout",
     "output_type": "stream",
     "text": [
      "[0.14999078 0.12893939 0.11773261 0.06014634 0.06625303 0.05590733\n",
      " 0.05371033 0.08426688 0.07704985 0.04880761 0.0409815  0.01326735\n",
      " 0.02173781 0.01081972 0.07038947]\n"
     ]
    }
   ],
   "source": [
    "print(importances)"
   ]
  },
  {
   "cell_type": "code",
   "execution_count": 31,
   "id": "1ab2c404-ee34-4471-a0cf-ee111b0b0961",
   "metadata": {},
   "outputs": [],
   "source": [
    "forest_test = forest.predict_proba(X_test)"
   ]
  },
  {
   "cell_type": "code",
   "execution_count": 32,
   "id": "2790ea82-aea8-49ca-ae8c-8ab538ad6c31",
   "metadata": {},
   "outputs": [],
   "source": [
    "# positive_class_probabilities = forest_test[:, 1]"
   ]
  },
  {
   "cell_type": "code",
   "execution_count": 33,
   "id": "7fa65be8-7ebc-4c78-8186-06c75d6112c2",
   "metadata": {},
   "outputs": [],
   "source": [
    "# positive_class_probabilities"
   ]
  },
  {
   "cell_type": "code",
   "execution_count": 34,
   "id": "df20d806-151f-4980-8dd0-e1907a93366b",
   "metadata": {},
   "outputs": [],
   "source": [
    "# with tf.device('/cpu:0'):\n",
    "\n",
    "#     filename = \"LUNA/HF_comorbidities_test.tfrecords\"\n",
    "    \n",
    "#     raw_dataset = tf.data.TFRecordDataset(filename)\n",
    "#     X_train = []\n",
    "#     Y_train = []\n",
    "#     i=0\n",
    "#     for raw_record in raw_dataset:\n",
    "#         sub_y = []\n",
    "    \n",
    "#         example = tf.train.Example()\n",
    "#         example.ParseFromString(raw_record.numpy())\n",
    "    \n",
    "#         nparr = np.fromstring(example.features.feature['jpg_bytes'].bytes_list.value[0], np.uint8)\n",
    "#         # img_np = cv.imdecode(nparr, cv.IMREAD_GRAYSCALE)\n",
    "#         img_np = cv.imdecode(nparr, cv.IMREAD_COLOR)\n",
    "#         # img_np = cv.imdecode(nparr, cv.COLOR_BGR2RGB)\n",
    "#         X_train.append(img_np)\n",
    "#         # Y_train.append(sub_y)\n",
    "    \n",
    "#         # img_np = cv.imdecode(nparr, cv.IMREAD_GRAYSCALE)\n",
    "#         # plt.imshow(img_np, cmap='gray')\n",
    "#         # plt.show()\n",
    "    \n",
    "#     X_train = np.array(X_train)\n",
    "#     # Y_train = np.array(Y_train)\n",
    "#     X_train = X_train.reshape(X_train.shape[0],X_train.shape[1],X_train.shape[2],-1)\n",
    "#     # Y_train = Y_train.astype(np.float64)\n",
    "#     # print(Y_train.shape)"
   ]
  },
  {
   "cell_type": "code",
   "execution_count": 36,
   "id": "d33e98db-5b89-4b8a-9aa6-a08aeb4faee8",
   "metadata": {},
   "outputs": [],
   "source": [
    "# X_train.shape"
   ]
  },
  {
   "cell_type": "code",
   "execution_count": null,
   "id": "bf40d999-0357-4ab5-909a-b4869a45621a",
   "metadata": {},
   "outputs": [],
   "source": []
  }
 ],
 "metadata": {
  "kernelspec": {
   "display_name": "test",
   "language": "python",
   "name": "test"
  },
  "language_info": {
   "codemirror_mode": {
    "name": "ipython",
    "version": 3
   },
   "file_extension": ".py",
   "mimetype": "text/x-python",
   "name": "python",
   "nbconvert_exporter": "python",
   "pygments_lexer": "ipython3",
   "version": "3.9.18"
  }
 },
 "nbformat": 4,
 "nbformat_minor": 5
}

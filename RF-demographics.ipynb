{
 "cells": [
  {
   "cell_type": "code",
   "execution_count": 1,
   "id": "db2da039-3b58-4750-9fa8-b4333c39aa94",
   "metadata": {},
   "outputs": [
    {
     "name": "stderr",
     "output_type": "stream",
     "text": [
      "2024-11-27 16:01:07.255977: I tensorflow/core/util/port.cc:113] oneDNN custom operations are on. You may see slightly different numerical results due to floating-point round-off errors from different computation orders. To turn them off, set the environment variable `TF_ENABLE_ONEDNN_OPTS=0`.\n",
      "2024-11-27 16:01:07.288696: E external/local_xla/xla/stream_executor/cuda/cuda_dnn.cc:9261] Unable to register cuDNN factory: Attempting to register factory for plugin cuDNN when one has already been registered\n",
      "2024-11-27 16:01:07.288721: E external/local_xla/xla/stream_executor/cuda/cuda_fft.cc:607] Unable to register cuFFT factory: Attempting to register factory for plugin cuFFT when one has already been registered\n",
      "2024-11-27 16:01:07.289632: E external/local_xla/xla/stream_executor/cuda/cuda_blas.cc:1515] Unable to register cuBLAS factory: Attempting to register factory for plugin cuBLAS when one has already been registered\n",
      "2024-11-27 16:01:07.295211: I tensorflow/core/platform/cpu_feature_guard.cc:182] This TensorFlow binary is optimized to use available CPU instructions in performance-critical operations.\n",
      "To enable the following instructions: AVX2 AVX512F AVX512_VNNI FMA, in other operations, rebuild TensorFlow with the appropriate compiler flags.\n",
      "2024-11-27 16:01:07.912868: W tensorflow/compiler/tf2tensorrt/utils/py_utils.cc:38] TF-TRT Warning: Could not find TensorRT\n"
     ]
    }
   ],
   "source": [
    "import tensorflow as tf\n",
    "import io\n",
    "import numpy as np\n",
    "import cv2 as cv\n",
    "import matplotlib.pyplot as plt\n",
    "from tensorflow import keras\n",
    "from tensorflow.keras import layers, models\n",
    "from tensorflow.keras import Sequential\n",
    "from tensorflow.keras.layers import Dense,Conv2D,MaxPooling2D,Flatten,Dropout, BatchNormalization\n",
    "from tensorflow.keras.preprocessing.image import ImageDataGenerator\n",
    "import pandas as pd\n",
    "from cv2 import imread, IMREAD_GRAYSCALE # IMREAD_GRAYSCALE allow you to load the image as gray scale image\n",
    "from tensorflow.keras.preprocessing.image import ImageDataGenerator\n",
    "import math\n",
    "import csv\n",
    "import gc"
   ]
  },
  {
   "cell_type": "code",
   "execution_count": 2,
   "id": "8cdf0261-e829-4315-aad7-4dc2f4ca28e7",
   "metadata": {},
   "outputs": [
    {
     "name": "stdout",
     "output_type": "stream",
     "text": [
      "Wed Nov 27 16:01:08 2024       \n",
      "+---------------------------------------------------------------------------------------+\n",
      "| NVIDIA-SMI 535.183.06             Driver Version: 535.183.06   CUDA Version: 12.2     |\n",
      "|-----------------------------------------+----------------------+----------------------+\n",
      "| GPU  Name                 Persistence-M | Bus-Id        Disp.A | Volatile Uncorr. ECC |\n",
      "| Fan  Temp   Perf          Pwr:Usage/Cap |         Memory-Usage | GPU-Util  Compute M. |\n",
      "|                                         |                      |               MIG M. |\n",
      "|=========================================+======================+======================|\n",
      "|   0  NVIDIA GeForce RTX 3090        Off | 00000000:65:00.0 Off |                  N/A |\n",
      "|  0%   45C    P8              32W / 370W |      3MiB / 24576MiB |      0%      Default |\n",
      "|                                         |                      |                  N/A |\n",
      "+-----------------------------------------+----------------------+----------------------+\n",
      "|   1  NVIDIA GeForce RTX 3090        Off | 00000000:B3:00.0 Off |                  N/A |\n",
      "|  0%   36C    P8              30W / 370W |   3202MiB / 24576MiB |      0%      Default |\n",
      "|                                         |                      |                  N/A |\n",
      "+-----------------------------------------+----------------------+----------------------+\n",
      "                                                                                         \n",
      "+---------------------------------------------------------------------------------------+\n",
      "| Processes:                                                                            |\n",
      "|  GPU   GI   CI        PID   Type   Process name                            GPU Memory |\n",
      "|        ID   ID                                                             Usage      |\n",
      "|=======================================================================================|\n",
      "|    1   N/A  N/A   3994517      C   /opt/tljh/user/bin/python                  1886MiB |\n",
      "|    1   N/A  N/A   4011103      C   ...yan1211/.conda/envs/test/bin/python     1308MiB |\n",
      "+---------------------------------------------------------------------------------------+\n"
     ]
    }
   ],
   "source": [
    "!nvidia-smi"
   ]
  },
  {
   "cell_type": "code",
   "execution_count": 3,
   "id": "180bff07-71a3-4928-b31d-27e95ff93b1d",
   "metadata": {},
   "outputs": [],
   "source": [
    "file1 = 'LUNA/HF_comorbidities_train.tfrecords'\n",
    "file2 = 'LUNA/HF_comorbidities_valid.tfrecords'\n",
    "file3 = 'LUNA/HF_comorbidities_test.tfrecords'\n",
    "cormorbidities = ['CAD', 'COPD', 'Asthma', 'CKD', 'Diabetes', 'Hypertension', 'ND', 'Dementia', 'LC', 'RibF', 'Pneumothorax', 'Pneumonia']"
   ]
  },
  {
   "cell_type": "code",
   "execution_count": 4,
   "id": "467f174d-d3bd-4534-a880-68c1e7f37539",
   "metadata": {},
   "outputs": [],
   "source": [
    "gpus = tf.config.list_physical_devices(device_type='GPU')\n",
    "tf.config.set_visible_devices(devices=gpus[1], device_type='GPU')"
   ]
  },
  {
   "cell_type": "code",
   "execution_count": 5,
   "id": "46f34e59-f569-4707-9fd0-80181d7373cc",
   "metadata": {},
   "outputs": [
    {
     "name": "stderr",
     "output_type": "stream",
     "text": [
      "2024-11-27 16:01:09.261605: I tensorflow/core/common_runtime/gpu/gpu_device.cc:1929] Created device /job:localhost/replica:0/task:0/device:GPU:0 with 19263 MB memory:  -> device: 1, name: NVIDIA GeForce RTX 3090, pci bus id: 0000:b3:00.0, compute capability: 8.6\n"
     ]
    }
   ],
   "source": [
    "raw_dataset = tf.data.TFRecordDataset(file1)\n",
    "X_train = []\n",
    "Y_train = []\n",
    "\n",
    "for raw_record in raw_dataset:\n",
    "    sub_x = []\n",
    "    sub_y = []\n",
    "\n",
    "    example = tf.train.Example()\n",
    "    example.ParseFromString(raw_record.numpy())\n",
    "\n",
    "    Y_train.append(example.features.feature['Label'].int64_list.value[0])\n",
    "    # temp = np.zeros(5)\n",
    "    # i = example.features.feature['Race'].int64_list.value[0]\n",
    "    # temp[i] = 1\n",
    "    # sub_x.append(temp)\n",
    "    sub_x.append(example.features.feature['Race'].int64_list.value[0])\n",
    "    sub_x.append(example.features.feature['Age'].int64_list.value[0])\n",
    "    sub_x.append(example.features.feature['Gender'].int64_list.value[0])\n",
    "    # for idx in range(12):\n",
    "    #     sub_x.append(example.features.feature[cormorbidities[idx]].int64_list.value[0])\n",
    "\n",
    "    X_train.append(sub_x)\n",
    "    # Y_train.append(sub_y)\n",
    "\n",
    "X_train = np.array(X_train)\n",
    "X_train = X_train.astype(np.int64)\n",
    "Y_train = np.array(Y_train)\n",
    "Y_train = Y_train.astype(np.int64)"
   ]
  },
  {
   "cell_type": "code",
   "execution_count": 6,
   "id": "acf4e49c-c0d6-4315-bd02-323e1b8caa96",
   "metadata": {},
   "outputs": [],
   "source": [
    "raw_dataset = tf.data.TFRecordDataset(file2)\n",
    "X_valid = []\n",
    "Y_valid = []\n",
    "\n",
    "for raw_record in raw_dataset:\n",
    "    sub_x = []\n",
    "    sub_y = []\n",
    "\n",
    "    example = tf.train.Example()\n",
    "    example.ParseFromString(raw_record.numpy())\n",
    "\n",
    "    sub_y.append(example.features.feature['Label'].int64_list.value[0])\n",
    "    # temp = np.zeros(5)\n",
    "    # i = example.features.feature['Race'].int64_list.value[0]\n",
    "    # temp[i] = 1\n",
    "    # sub_x.append(temp)\n",
    "    sub_x.append(example.features.feature['Race'].int64_list.value[0])\n",
    "    sub_x.append(example.features.feature['Age'].int64_list.value[0])\n",
    "    sub_x.append(example.features.feature['Gender'].int64_list.value[0])\n",
    "    # for idx in range(12):\n",
    "    #     sub_x.append(example.features.feature[cormorbidities[idx]].int64_list.value[0])\n",
    "    \n",
    "    X_valid.append(sub_x)\n",
    "    Y_valid.append(sub_y)\n",
    "\n",
    "X_valid = np.array(X_valid)\n",
    "X_valid = X_valid.astype(np.int64)\n",
    "Y_valid = np.array(Y_valid)\n",
    "Y_valid = Y_valid.astype(np.int64)"
   ]
  },
  {
   "cell_type": "code",
   "execution_count": 7,
   "id": "320f37d1-014a-4bed-8ad4-122ea7b14e1f",
   "metadata": {},
   "outputs": [],
   "source": [
    "raw_dataset = tf.data.TFRecordDataset(file3)\n",
    "X_test = []\n",
    "Y_test = []\n",
    "\n",
    "for raw_record in raw_dataset:\n",
    "    sub_x = []\n",
    "    sub_y = []\n",
    "\n",
    "    example = tf.train.Example()\n",
    "    example.ParseFromString(raw_record.numpy())\n",
    "\n",
    "    Y_test.append(example.features.feature['Label'].int64_list.value[0])\n",
    "    # temp = np.zeros(5)\n",
    "    # i = example.features.feature['Race'].int64_list.value[0]\n",
    "    # temp[i] = 1\n",
    "    # sub_x.append(temp)\n",
    "    sub_x.append(example.features.feature['Race'].int64_list.value[0])\n",
    "    sub_x.append(example.features.feature['Age'].int64_list.value[0])\n",
    "    sub_x.append(example.features.feature['Gender'].int64_list.value[0])\n",
    "    # for idx in range(12):\n",
    "    #     sub_x.append(example.features.feature[cormorbidities[idx]].int64_list.value[0])\n",
    "\n",
    "    X_test.append(sub_x)\n",
    "    # Y_test.append(sub_y)\n",
    "\n",
    "X_test = np.array(X_test)\n",
    "X_test = X_test.astype(np.int64)\n",
    "Y_test = np.array(Y_test)\n",
    "Y_test = Y_test.astype(np.int64)"
   ]
  },
  {
   "cell_type": "code",
   "execution_count": 8,
   "id": "803ea4cd-8ced-4628-b90b-9bfd51a3cb23",
   "metadata": {},
   "outputs": [
    {
     "name": "stdout",
     "output_type": "stream",
     "text": [
      "(2697, 3) (2697,)\n",
      "(809, 3) (809, 1)\n",
      "(347, 3) (347,)\n"
     ]
    }
   ],
   "source": [
    "print(X_train.shape, Y_train.shape)\n",
    "print(X_valid.shape, Y_valid.shape)\n",
    "print(X_test.shape, Y_test.shape)"
   ]
  },
  {
   "cell_type": "code",
   "execution_count": 9,
   "id": "601cefe7-a5bb-4094-b3bb-2a9d03369e45",
   "metadata": {},
   "outputs": [],
   "source": [
    "from sklearn.model_selection import train_test_split\n",
    "import pandas as pd\n",
    "import numpy as np\n",
    "from keras.models import Sequential\n",
    "from keras.layers import Dense, Activation, Flatten\n",
    "from sklearn.ensemble import RandomForestClassifier\n",
    "from sklearn.metrics import f1_score\n",
    "from sklearn.metrics import accuracy_score\n",
    "from keras.callbacks import ModelCheckpoint\n",
    "from sklearn.metrics import roc_curve, auc, roc_auc_score"
   ]
  },
  {
   "cell_type": "code",
   "execution_count": 10,
   "id": "80a0a9b6-bb8d-400e-89e7-a189eff82da5",
   "metadata": {},
   "outputs": [],
   "source": [
    "parameters = {'bootstrap': True,\n",
    "              'min_samples_leaf': 3,\n",
    "              'n_estimators': 50, \n",
    "              'min_samples_split': 10,\n",
    "              'max_features': 'sqrt',\n",
    "              'max_depth': 6,\n",
    "              'max_leaf_nodes': None}"
   ]
  },
  {
   "cell_type": "code",
   "execution_count": 11,
   "id": "c64b458d-1eb8-4a9b-8732-6c31a3046015",
   "metadata": {},
   "outputs": [
    {
     "data": {
      "text/html": [
       "<style>#sk-container-id-1 {color: black;}#sk-container-id-1 pre{padding: 0;}#sk-container-id-1 div.sk-toggleable {background-color: white;}#sk-container-id-1 label.sk-toggleable__label {cursor: pointer;display: block;width: 100%;margin-bottom: 0;padding: 0.3em;box-sizing: border-box;text-align: center;}#sk-container-id-1 label.sk-toggleable__label-arrow:before {content: \"▸\";float: left;margin-right: 0.25em;color: #696969;}#sk-container-id-1 label.sk-toggleable__label-arrow:hover:before {color: black;}#sk-container-id-1 div.sk-estimator:hover label.sk-toggleable__label-arrow:before {color: black;}#sk-container-id-1 div.sk-toggleable__content {max-height: 0;max-width: 0;overflow: hidden;text-align: left;background-color: #f0f8ff;}#sk-container-id-1 div.sk-toggleable__content pre {margin: 0.2em;color: black;border-radius: 0.25em;background-color: #f0f8ff;}#sk-container-id-1 input.sk-toggleable__control:checked~div.sk-toggleable__content {max-height: 200px;max-width: 100%;overflow: auto;}#sk-container-id-1 input.sk-toggleable__control:checked~label.sk-toggleable__label-arrow:before {content: \"▾\";}#sk-container-id-1 div.sk-estimator input.sk-toggleable__control:checked~label.sk-toggleable__label {background-color: #d4ebff;}#sk-container-id-1 div.sk-label input.sk-toggleable__control:checked~label.sk-toggleable__label {background-color: #d4ebff;}#sk-container-id-1 input.sk-hidden--visually {border: 0;clip: rect(1px 1px 1px 1px);clip: rect(1px, 1px, 1px, 1px);height: 1px;margin: -1px;overflow: hidden;padding: 0;position: absolute;width: 1px;}#sk-container-id-1 div.sk-estimator {font-family: monospace;background-color: #f0f8ff;border: 1px dotted black;border-radius: 0.25em;box-sizing: border-box;margin-bottom: 0.5em;}#sk-container-id-1 div.sk-estimator:hover {background-color: #d4ebff;}#sk-container-id-1 div.sk-parallel-item::after {content: \"\";width: 100%;border-bottom: 1px solid gray;flex-grow: 1;}#sk-container-id-1 div.sk-label:hover label.sk-toggleable__label {background-color: #d4ebff;}#sk-container-id-1 div.sk-serial::before {content: \"\";position: absolute;border-left: 1px solid gray;box-sizing: border-box;top: 0;bottom: 0;left: 50%;z-index: 0;}#sk-container-id-1 div.sk-serial {display: flex;flex-direction: column;align-items: center;background-color: white;padding-right: 0.2em;padding-left: 0.2em;position: relative;}#sk-container-id-1 div.sk-item {position: relative;z-index: 1;}#sk-container-id-1 div.sk-parallel {display: flex;align-items: stretch;justify-content: center;background-color: white;position: relative;}#sk-container-id-1 div.sk-item::before, #sk-container-id-1 div.sk-parallel-item::before {content: \"\";position: absolute;border-left: 1px solid gray;box-sizing: border-box;top: 0;bottom: 0;left: 50%;z-index: -1;}#sk-container-id-1 div.sk-parallel-item {display: flex;flex-direction: column;z-index: 1;position: relative;background-color: white;}#sk-container-id-1 div.sk-parallel-item:first-child::after {align-self: flex-end;width: 50%;}#sk-container-id-1 div.sk-parallel-item:last-child::after {align-self: flex-start;width: 50%;}#sk-container-id-1 div.sk-parallel-item:only-child::after {width: 0;}#sk-container-id-1 div.sk-dashed-wrapped {border: 1px dashed gray;margin: 0 0.4em 0.5em 0.4em;box-sizing: border-box;padding-bottom: 0.4em;background-color: white;}#sk-container-id-1 div.sk-label label {font-family: monospace;font-weight: bold;display: inline-block;line-height: 1.2em;}#sk-container-id-1 div.sk-label-container {text-align: center;}#sk-container-id-1 div.sk-container {/* jupyter's `normalize.less` sets `[hidden] { display: none; }` but bootstrap.min.css set `[hidden] { display: none !important; }` so we also need the `!important` here to be able to override the default hidden behavior on the sphinx rendered scikit-learn.org. See: https://github.com/scikit-learn/scikit-learn/issues/21755 */display: inline-block !important;position: relative;}#sk-container-id-1 div.sk-text-repr-fallback {display: none;}</style><div id=\"sk-container-id-1\" class=\"sk-top-container\"><div class=\"sk-text-repr-fallback\"><pre>RandomForestClassifier(max_depth=6, min_samples_leaf=3, min_samples_split=10,\n",
       "                       n_estimators=50)</pre><b>In a Jupyter environment, please rerun this cell to show the HTML representation or trust the notebook. <br />On GitHub, the HTML representation is unable to render, please try loading this page with nbviewer.org.</b></div><div class=\"sk-container\" hidden><div class=\"sk-item\"><div class=\"sk-estimator sk-toggleable\"><input class=\"sk-toggleable__control sk-hidden--visually\" id=\"sk-estimator-id-1\" type=\"checkbox\" checked><label for=\"sk-estimator-id-1\" class=\"sk-toggleable__label sk-toggleable__label-arrow\">RandomForestClassifier</label><div class=\"sk-toggleable__content\"><pre>RandomForestClassifier(max_depth=6, min_samples_leaf=3, min_samples_split=10,\n",
       "                       n_estimators=50)</pre></div></div></div></div></div>"
      ],
      "text/plain": [
       "RandomForestClassifier(max_depth=6, min_samples_leaf=3, min_samples_split=10,\n",
       "                       n_estimators=50)"
      ]
     },
     "execution_count": 11,
     "metadata": {},
     "output_type": "execute_result"
    }
   ],
   "source": [
    "RF_model = RandomForestClassifier(**parameters)\n",
    "RF_model.fit(X_train, Y_train)"
   ]
  },
  {
   "cell_type": "code",
   "execution_count": 12,
   "id": "3c8447b7-524c-4ddc-8074-2d741ac7d468",
   "metadata": {},
   "outputs": [
    {
     "name": "stdout",
     "output_type": "stream",
     "text": [
      "0.5850144092219021\n"
     ]
    }
   ],
   "source": [
    "RF_predictions = RF_model.predict(X_test)\n",
    "score = accuracy_score(Y_test ,RF_predictions)\n",
    "print(score)"
   ]
  },
  {
   "cell_type": "code",
   "execution_count": 13,
   "id": "550a1a20-d42a-4136-b1e1-12ccb04d1f02",
   "metadata": {},
   "outputs": [
    {
     "data": {
      "text/plain": [
       "0.6352497485752597"
      ]
     },
     "execution_count": 13,
     "metadata": {},
     "output_type": "execute_result"
    }
   ],
   "source": [
    "y_pred_prob = RF_model.predict_proba(X_test)[:, 1] \n",
    "# fpr, tpr, thresholds = roc_curve(y_test, y_pred_prob, pos_label=1)\n",
    "roc_auc = roc_auc_score(Y_test, y_pred_prob) \n",
    "roc_auc"
   ]
  },
  {
   "cell_type": "code",
   "execution_count": 14,
   "id": "e34e2d03-2e88-4b6e-94a0-1b7f8374efba",
   "metadata": {},
   "outputs": [
    {
     "name": "stdout",
     "output_type": "stream",
     "text": [
      "Confusion Matrix:\n",
      "[[ 56 101]\n",
      " [ 43 147]]\n"
     ]
    },
    {
     "data": {
      "image/png": "[encoded data removed]",
      "text/plain": [
       "<Figure size 640x480 with 2 Axes>"
      ]
     },
     "metadata": {},
     "output_type": "display_data"
    }
   ],
   "source": [
    "from sklearn.metrics import confusion_matrix\n",
    "import seaborn as sns\n",
    "import matplotlib.pyplot as plt\n",
    "# Compute and display the confusion matrix\n",
    "cm = confusion_matrix(Y_test, RF_predictions)\n",
    "print(\"Confusion Matrix:\")\n",
    "print(cm)\n",
    "sns.heatmap(cm, annot=True, fmt='g')\n",
    "plt.xlabel('Predicted')\n",
    "plt.ylabel('True')\n",
    "plt.title('Confusion Matrix')\n",
    "plt.show()"
   ]
  },
  {
   "cell_type": "code",
   "execution_count": 15,
   "id": "90a10226-5f9a-461b-90c3-6a71824b46d5",
   "metadata": {},
   "outputs": [],
   "source": [
    "importances = RF_model.feature_importances_"
   ]
  },
  {
   "cell_type": "code",
   "execution_count": 16,
   "id": "cbaa152d-0bda-477c-9bd7-9ed3bc7ec11a",
   "metadata": {},
   "outputs": [
    {
     "name": "stdout",
     "output_type": "stream",
     "text": [
      "[0.20579083 0.17926724 0.61494193]\n"
     ]
    }
   ],
   "source": [
    "print(importances)"
   ]
  },
  {
   "cell_type": "code",
   "execution_count": 17,
   "id": "3845e2be-46cf-41d6-bbea-13807f00e499",
   "metadata": {},
   "outputs": [
    {
     "data": {
      "text/html": [
       "<style>#sk-container-id-2 {color: black;}#sk-container-id-2 pre{padding: 0;}#sk-container-id-2 div.sk-toggleable {background-color: white;}#sk-container-id-2 label.sk-toggleable__label {cursor: pointer;display: block;width: 100%;margin-bottom: 0;padding: 0.3em;box-sizing: border-box;text-align: center;}#sk-container-id-2 label.sk-toggleable__label-arrow:before {content: \"▸\";float: left;margin-right: 0.25em;color: #696969;}#sk-container-id-2 label.sk-toggleable__label-arrow:hover:before {color: black;}#sk-container-id-2 div.sk-estimator:hover label.sk-toggleable__label-arrow:before {color: black;}#sk-container-id-2 div.sk-toggleable__content {max-height: 0;max-width: 0;overflow: hidden;text-align: left;background-color: #f0f8ff;}#sk-container-id-2 div.sk-toggleable__content pre {margin: 0.2em;color: black;border-radius: 0.25em;background-color: #f0f8ff;}#sk-container-id-2 input.sk-toggleable__control:checked~div.sk-toggleable__content {max-height: 200px;max-width: 100%;overflow: auto;}#sk-container-id-2 input.sk-toggleable__control:checked~label.sk-toggleable__label-arrow:before {content: \"▾\";}#sk-container-id-2 div.sk-estimator input.sk-toggleable__control:checked~label.sk-toggleable__label {background-color: #d4ebff;}#sk-container-id-2 div.sk-label input.sk-toggleable__control:checked~label.sk-toggleable__label {background-color: #d4ebff;}#sk-container-id-2 input.sk-hidden--visually {border: 0;clip: rect(1px 1px 1px 1px);clip: rect(1px, 1px, 1px, 1px);height: 1px;margin: -1px;overflow: hidden;padding: 0;position: absolute;width: 1px;}#sk-container-id-2 div.sk-estimator {font-family: monospace;background-color: #f0f8ff;border: 1px dotted black;border-radius: 0.25em;box-sizing: border-box;margin-bottom: 0.5em;}#sk-container-id-2 div.sk-estimator:hover {background-color: #d4ebff;}#sk-container-id-2 div.sk-parallel-item::after {content: \"\";width: 100%;border-bottom: 1px solid gray;flex-grow: 1;}#sk-container-id-2 div.sk-label:hover label.sk-toggleable__label {background-color: #d4ebff;}#sk-container-id-2 div.sk-serial::before {content: \"\";position: absolute;border-left: 1px solid gray;box-sizing: border-box;top: 0;bottom: 0;left: 50%;z-index: 0;}#sk-container-id-2 div.sk-serial {display: flex;flex-direction: column;align-items: center;background-color: white;padding-right: 0.2em;padding-left: 0.2em;position: relative;}#sk-container-id-2 div.sk-item {position: relative;z-index: 1;}#sk-container-id-2 div.sk-parallel {display: flex;align-items: stretch;justify-content: center;background-color: white;position: relative;}#sk-container-id-2 div.sk-item::before, #sk-container-id-2 div.sk-parallel-item::before {content: \"\";position: absolute;border-left: 1px solid gray;box-sizing: border-box;top: 0;bottom: 0;left: 50%;z-index: -1;}#sk-container-id-2 div.sk-parallel-item {display: flex;flex-direction: column;z-index: 1;position: relative;background-color: white;}#sk-container-id-2 div.sk-parallel-item:first-child::after {align-self: flex-end;width: 50%;}#sk-container-id-2 div.sk-parallel-item:last-child::after {align-self: flex-start;width: 50%;}#sk-container-id-2 div.sk-parallel-item:only-child::after {width: 0;}#sk-container-id-2 div.sk-dashed-wrapped {border: 1px dashed gray;margin: 0 0.4em 0.5em 0.4em;box-sizing: border-box;padding-bottom: 0.4em;background-color: white;}#sk-container-id-2 div.sk-label label {font-family: monospace;font-weight: bold;display: inline-block;line-height: 1.2em;}#sk-container-id-2 div.sk-label-container {text-align: center;}#sk-container-id-2 div.sk-container {/* jupyter's `normalize.less` sets `[hidden] { display: none; }` but bootstrap.min.css set `[hidden] { display: none !important; }` so we also need the `!important` here to be able to override the default hidden behavior on the sphinx rendered scikit-learn.org. See: https://github.com/scikit-learn/scikit-learn/issues/21755 */display: inline-block !important;position: relative;}#sk-container-id-2 div.sk-text-repr-fallback {display: none;}</style><div id=\"sk-container-id-2\" class=\"sk-top-container\"><div class=\"sk-text-repr-fallback\"><pre>RandomForestClassifier(random_state=0)</pre><b>In a Jupyter environment, please rerun this cell to show the HTML representation or trust the notebook. <br />On GitHub, the HTML representation is unable to render, please try loading this page with nbviewer.org.</b></div><div class=\"sk-container\" hidden><div class=\"sk-item\"><div class=\"sk-estimator sk-toggleable\"><input class=\"sk-toggleable__control sk-hidden--visually\" id=\"sk-estimator-id-2\" type=\"checkbox\" checked><label for=\"sk-estimator-id-2\" class=\"sk-toggleable__label sk-toggleable__label-arrow\">RandomForestClassifier</label><div class=\"sk-toggleable__content\"><pre>RandomForestClassifier(random_state=0)</pre></div></div></div></div></div>"
      ],
      "text/plain": [
       "RandomForestClassifier(random_state=0)"
      ]
     },
     "execution_count": 17,
     "metadata": {},
     "output_type": "execute_result"
    }
   ],
   "source": [
    "from sklearn.datasets import make_classification\n",
    "X, y = make_classification(\n",
    "    n_samples=1000,\n",
    "    n_features=10,\n",
    "    n_informative=3,\n",
    "    n_redundant=0,\n",
    "    n_repeated=0,\n",
    "    n_classes=3,\n",
    "    random_state=0,\n",
    "    shuffle=False,\n",
    ")\n",
    "forest = RandomForestClassifier(random_state=0)\n",
    "forest.fit(X_train, Y_train)"
   ]
  },
  {
   "cell_type": "code",
   "execution_count": 18,
   "id": "1b7ae26f-9ee7-4894-8a61-0eed9b8d6385",
   "metadata": {},
   "outputs": [
    {
     "name": "stdout",
     "output_type": "stream",
     "text": [
      "0.6023054755043228\n"
     ]
    }
   ],
   "source": [
    "forest_predictions = forest.predict(X_test)\n",
    "score = accuracy_score(Y_test ,forest_predictions)\n",
    "print(score)"
   ]
  },
  {
   "cell_type": "code",
   "execution_count": 33,
   "id": "d6a63b1b-2e45-4353-b4e4-981993b0e38a",
   "metadata": {},
   "outputs": [
    {
     "name": "stdout",
     "output_type": "stream",
     "text": [
      "0.6386356017432115\n"
     ]
    }
   ],
   "source": [
    "y_pred_prob = forest.predict_proba(X_test)[:, 1] \n",
    "# fpr, tpr, thresholds = roc_curve(y_test, y_pred_prob, pos_label=1)\n",
    "roc_auc = roc_auc_score(Y_test, y_pred_prob) \n",
    "print(roc_auc)"
   ]
  },
  {
   "cell_type": "code",
   "execution_count": 35,
   "id": "8dbc9a1d-51ff-4951-810f-ca2cb12ff00b",
   "metadata": {},
   "outputs": [
    {
     "name": "stdout",
     "output_type": "stream",
     "text": [
      "[0, 3, 4, 5, 6, 8, 10, 13, 16, 18, 23, 24, 26, 27, 29, 30, 34, 35, 36, 38, 39, 40, 41, 42, 43, 44, 45, 52, 53, 55, 56, 59, 60, 61, 62, 63, 65, 68, 70, 74, 76, 77, 79, 80, 83, 86, 88, 89, 90, 92, 93, 95, 96, 98, 100, 101, 102, 104, 105, 106, 108, 109, 110, 113, 114, 115, 117, 119, 120, 126, 128, 129, 134, 136, 137, 139, 140, 143, 145, 149, 151, 153, 154, 155, 157, 158, 159, 160, 161, 162, 165, 166, 168, 169, 171, 173, 175, 179, 180, 181, 182, 184, 185, 188, 189, 190, 192, 193, 194, 196, 197, 201, 202, 205, 207, 208, 210, 211, 212, 213, 214, 216, 217, 218, 219, 220, 222, 227, 230, 232, 233, 234, 235, 236, 237, 238, 239, 241, 242, 243, 244, 245, 246, 247, 248, 250, 252, 255, 257, 259, 260, 261, 265, 268, 269, 272, 273, 274, 275, 276, 277, 279, 280, 281, 283, 284, 288, 289, 290, 291, 292, 294, 295, 297, 298, 300, 302, 303, 304, 305, 307, 308, 311, 312, 313, 314, 315, 316, 317, 318, 322, 324, 325, 326, 327, 328, 329, 330, 332, 333, 334, 336, 339, 340, 342, 343, 344, 345, 346]\n"
     ]
    }
   ],
   "source": [
    "list1=np.round(y_pred_prob)\n",
    "ans1=[]\n",
    "for i in range(len(list1)):\n",
    "    if list1[i]==Y_test[i]:\n",
    "        ans1.append(i)\n",
    "print(ans1)"
   ]
  },
  {
   "cell_type": "code",
   "execution_count": 22,
   "id": "9176ce95-3825-4362-be6c-367fb0fc3da1",
   "metadata": {},
   "outputs": [
    {
     "data": {
      "text/plain": [
       "0.6386356017432115"
      ]
     },
     "execution_count": 22,
     "metadata": {},
     "output_type": "execute_result"
    }
   ],
   "source": [
    "from Utils import * \n",
    "\n",
    "fpr, tpr, threshes =metrics.roc_curve(Y_test, y_pred_prob)\n",
    "best_thresh = get_optimal_youden_threshold(tpr, fpr, threshes)\n",
    "metrics.auc(fpr, tpr)"
   ]
  },
  {
   "cell_type": "code",
   "execution_count": 24,
   "id": "80ac65a7-32d5-4e8f-8e33-a21b85a1aff3",
   "metadata": {},
   "outputs": [],
   "source": [
    "# from joblib import dump, load\n",
    "\n",
    "# dump(forest, 'random_forest_model_demographics.joblib')\n",
    "\n",
    "# # loaded_model = load('random_forest_model.joblib')"
   ]
  },
  {
   "cell_type": "code",
   "execution_count": 25,
   "id": "a2142308-5c94-4b1a-97d5-926a115f2c2f",
   "metadata": {},
   "outputs": [
    {
     "name": "stdout",
     "output_type": "stream",
     "text": [
      "Confusion Matrix:\n",
      "[[ 63  94]\n",
      " [ 44 146]]\n"
     ]
    },
    {
     "data": {
      "image/png": "[encoded data removed]",
      "text/plain": [
       "<Figure size 640x480 with 2 Axes>"
      ]
     },
     "metadata": {},
     "output_type": "display_data"
    }
   ],
   "source": [
    "from sklearn.metrics import confusion_matrix\n",
    "import seaborn as sns\n",
    "import matplotlib.pyplot as plt\n",
    "# Compute and display the confusion matrix\n",
    "cm = confusion_matrix(Y_test, forest_predictions)\n",
    "print(\"Confusion Matrix:\")\n",
    "print(cm)\n",
    "sns.heatmap(cm, annot=True, fmt='g')\n",
    "plt.xlabel('Predicted')\n",
    "plt.ylabel('True')\n",
    "plt.title('Confusion Matrix')\n",
    "plt.show()"
   ]
  },
  {
   "cell_type": "code",
   "execution_count": 26,
   "id": "9595770f-8d7d-408d-8221-02df7eb436b2",
   "metadata": {},
   "outputs": [],
   "source": [
    "importances = forest.feature_importances_"
   ]
  },
  {
   "cell_type": "code",
   "execution_count": 27,
   "id": "f23978bc-4374-4968-9741-2bfec670f43c",
   "metadata": {},
   "outputs": [
    {
     "name": "stdout",
     "output_type": "stream",
     "text": [
      "[0.23459596 0.16810181 0.59730223]\n"
     ]
    }
   ],
   "source": [
    "print(importances)"
   ]
  },
  {
   "cell_type": "code",
   "execution_count": 28,
   "id": "1ab2c404-ee34-4471-a0cf-ee111b0b0961",
   "metadata": {},
   "outputs": [],
   "source": [
    "forest_test = forest.predict_proba(X_test)"
   ]
  },
  {
   "cell_type": "code",
   "execution_count": 29,
   "id": "2790ea82-aea8-49ca-ae8c-8ab538ad6c31",
   "metadata": {},
   "outputs": [],
   "source": [
    "positive_class_probabilities = forest_test[:, 1]"
   ]
  },
  {
   "cell_type": "code",
   "execution_count": 30,
   "id": "7fa65be8-7ebc-4c78-8186-06c75d6112c2",
   "metadata": {},
   "outputs": [
    {
     "data": {
      "text/plain": [
       "array([0.53939106, 0.63686575, 0.73512292, 0.76726453, 0.76726453,\n",
       "       0.47956662, 0.63686575, 0.4431031 , 0.74950396, 0.47956662,\n",
       "       0.79844517, 0.76726453, 0.45168593, 0.76726453, 0.76726453,\n",
       "       0.4431031 , 0.41557647, 0.48438205, 0.76726453, 0.4431031 ,\n",
       "       0.53939106, 0.2398374 , 0.60304258, 0.56625578, 0.35546927,\n",
       "       0.73512292, 0.76726453, 0.73512292, 0.56963201, 0.62099558,\n",
       "       0.76726453, 0.76726453, 0.73512292, 0.53939106, 0.35546927,\n",
       "       0.73512292, 0.4431031 , 0.90061417, 0.48438205, 0.76726453,\n",
       "       0.53939106, 0.90061417, 0.4431031 , 0.41557647, 0.60304258,\n",
       "       0.69670208, 0.4431031 , 0.63686575, 0.62099558, 0.2398374 ,\n",
       "       0.53939106, 0.63686575, 0.63686575, 0.47956662, 0.4431031 ,\n",
       "       0.76726453, 0.35546927, 0.4431031 , 0.63686575, 0.90061417,\n",
       "       0.73512292, 0.41557647, 0.76726453, 0.74950396, 0.76726453,\n",
       "       1.        , 0.47956662, 0.53939106, 0.4431031 , 0.63686575,\n",
       "       0.53939106, 0.63686575, 0.76726453, 0.63686575, 0.45168593,\n",
       "       0.60304258, 0.63686575, 0.60304258, 0.53939106, 0.41557647,\n",
       "       0.60304258, 0.60304258, 0.62099558, 0.4431031 , 0.4431031 ,\n",
       "       0.90061417, 0.79844517, 0.63686575, 0.76726453, 0.63686575,\n",
       "       0.69670208, 0.63686575, 0.48438205, 0.53939106, 0.47956662,\n",
       "       0.47956662, 0.76726453, 0.75702054, 0.2398374 , 0.63686575,\n",
       "       0.76726453, 0.47956662, 0.47956662, 0.47956662, 0.63686575,\n",
       "       0.4431031 , 0.47956662, 0.62729612, 0.4431031 , 0.47956662,\n",
       "       0.75702054, 0.60304258, 0.76726453, 0.60304258, 0.76726453,\n",
       "       0.63686575, 0.45168593, 0.53939106, 0.74950396, 0.63686575,\n",
       "       0.79844517, 0.47956662, 0.47956662, 0.4431031 , 0.53939106,\n",
       "       0.60304258, 0.53939106, 0.63686575, 0.76726453, 0.76726453,\n",
       "       0.60304258, 0.63686575, 0.47956662, 0.76726453, 0.63686575,\n",
       "       0.53939106, 0.76726453, 0.4431031 , 0.76726453, 0.76726453,\n",
       "       0.76726453, 0.60304258, 0.63686575, 0.56620868, 0.4431031 ,\n",
       "       0.47956662, 0.4431031 , 0.63686575, 0.63686575, 0.76726453,\n",
       "       0.4431031 , 0.76726453, 0.47956662, 0.76726453, 0.60304258,\n",
       "       0.47956662, 0.76726453, 0.73512292, 0.73512292, 0.2398374 ,\n",
       "       0.56963201, 0.79844517, 0.76726453, 0.53939106, 0.53939106,\n",
       "       0.63686575, 0.4431031 , 0.53939106, 0.90061417, 0.76726453,\n",
       "       0.4431031 , 0.76726453, 0.47956662, 0.79844517, 0.53939106,\n",
       "       0.63686575, 0.4431031 , 0.45168593, 0.4431031 , 0.45168593,\n",
       "       0.47956662, 0.63686575, 0.4431031 , 0.56963201, 0.76726453,\n",
       "       0.53939106, 0.76726453, 0.76726453, 0.60304258, 0.63686575,\n",
       "       0.47956662, 0.4431031 , 0.54191212, 0.63686575, 1.        ,\n",
       "       0.4431031 , 0.73512292, 0.53939106, 0.53939106, 0.60304258,\n",
       "       0.4431031 , 0.47956662, 0.69670208, 0.60304258, 0.60304258,\n",
       "       0.47956662, 0.54191212, 0.47956662, 0.63686575, 0.76726453,\n",
       "       0.56620868, 0.60304258, 0.73512292, 0.54191212, 0.47956662,\n",
       "       0.4431031 , 0.60304258, 0.60304258, 0.76726453, 0.47956662,\n",
       "       0.45168593, 0.63686575, 0.74950396, 0.63686575, 0.56620868,\n",
       "       0.4431031 , 0.53939106, 0.77591169, 0.4431031 , 0.73512292,\n",
       "       0.76726453, 0.4431031 , 0.60304258, 0.60304258, 0.41557647,\n",
       "       0.63686575, 0.79844517, 0.63686575, 0.60304258, 0.76726453,\n",
       "       0.69670208, 0.62099558, 0.47956662, 0.56625578, 0.63686575,\n",
       "       0.60304258, 0.76726453, 0.47343854, 0.69670208, 0.62099558,\n",
       "       0.79844517, 0.53939106, 0.76726453, 0.76726453, 0.53939106,\n",
       "       0.47956662, 0.53939106, 0.76726453, 0.74950396, 0.53939106,\n",
       "       0.60304258, 0.53939106, 0.54191212, 0.4431031 , 0.4431031 ,\n",
       "       0.60304258, 0.79844517, 0.45168593, 0.63686575, 0.4431031 ,\n",
       "       0.54191212, 0.60304258, 0.4431031 , 0.76726453, 0.60304258,\n",
       "       0.4431031 , 0.35546927, 0.47956662, 0.56620868, 0.48438205,\n",
       "       0.48623419, 0.47956662, 0.63686575, 0.47956662, 0.45168593,\n",
       "       0.53939106, 0.60304258, 0.60304258, 0.76726453, 0.48438205,\n",
       "       0.76726453, 0.76726453, 0.47956662, 0.4431031 , 0.4431031 ,\n",
       "       0.76726453, 0.4431031 , 0.4431031 , 0.48438205, 0.63686575,\n",
       "       0.63686575, 0.90061417, 0.4431031 , 0.79844517, 0.76726453,\n",
       "       0.73512292, 0.53939106, 0.62099558, 0.76726453, 0.76726453,\n",
       "       0.47956662, 0.63686575, 0.47956662, 0.47343854, 0.35546927,\n",
       "       0.76726453, 0.69670208, 0.60304258, 0.54191212, 0.45168593,\n",
       "       0.73512292, 0.53939106, 0.54191212, 0.79844517, 0.73512292,\n",
       "       0.63686575, 0.53939106, 0.76726453, 0.79844517, 0.79844517,\n",
       "       0.63686575, 0.47956662, 0.60304258, 0.63686575, 0.63686575,\n",
       "       0.76726453, 0.53939106, 0.76726453, 0.53939106, 0.76726453,\n",
       "       0.73512292, 0.53939106, 0.53939106, 0.4431031 , 0.76726453,\n",
       "       0.60304258, 0.63686575])"
      ]
     },
     "execution_count": 30,
     "metadata": {},
     "output_type": "execute_result"
    }
   ],
   "source": [
    "positive_class_probabilities"
   ]
  },
  {
   "cell_type": "code",
   "execution_count": 31,
   "id": "df20d806-151f-4980-8dd0-e1907a93366b",
   "metadata": {},
   "outputs": [],
   "source": [
    "# with tf.device('/cpu:0'):\n",
    "\n",
    "#     filename = \"LUNA/HF_comorbidities_test.tfrecords\"\n",
    "    \n",
    "#     raw_dataset = tf.data.TFRecordDataset(filename)\n",
    "#     X_train = []\n",
    "#     Y_train = []\n",
    "#     i=0\n",
    "#     for raw_record in raw_dataset:\n",
    "#         sub_y = []\n",
    "    \n",
    "#         example = tf.train.Example()\n",
    "#         example.ParseFromString(raw_record.numpy())\n",
    "    \n",
    "#         nparr = np.fromstring(example.features.feature['jpg_bytes'].bytes_list.value[0], np.uint8)\n",
    "#         # img_np = cv.imdecode(nparr, cv.IMREAD_GRAYSCALE)\n",
    "#         img_np = cv.imdecode(nparr, cv.IMREAD_COLOR)\n",
    "#         # img_np = cv.imdecode(nparr, cv.COLOR_BGR2RGB)\n",
    "#         X_train.append(img_np)\n",
    "#         # Y_train.append(sub_y)\n",
    "    \n",
    "#         # img_np = cv.imdecode(nparr, cv.IMREAD_GRAYSCALE)\n",
    "#         # plt.imshow(img_np, cmap='gray')\n",
    "#         # plt.show()\n",
    "    \n",
    "#     X_train = np.array(X_train)\n",
    "#     # Y_train = np.array(Y_train)\n",
    "#     X_train = X_train.reshape(X_train.shape[0],X_train.shape[1],X_train.shape[2],-1)\n",
    "#     # Y_train = Y_train.astype(np.float64)\n",
    "#     # print(Y_train.shape)"
   ]
  },
  {
   "cell_type": "code",
   "execution_count": 32,
   "id": "d33e98db-5b89-4b8a-9aa6-a08aeb4faee8",
   "metadata": {},
   "outputs": [],
   "source": [
    "# X_train.shape"
   ]
  },
  {
   "cell_type": "code",
   "execution_count": null,
   "id": "cdce8a05-4677-4749-ae8e-53b6b6406cf6",
   "metadata": {},
   "outputs": [],
   "source": []
  }
 ],
 "metadata": {
  "kernelspec": {
   "display_name": "test",
   "language": "python",
   "name": "test"
  },
  "language_info": {
   "codemirror_mode": {
    "name": "ipython",
    "version": 3
   },
   "file_extension": ".py",
   "mimetype": "text/x-python",
   "name": "python",
   "nbconvert_exporter": "python",
   "pygments_lexer": "ipython3",
   "version": "3.9.18"
  }
 },
 "nbformat": 4,
 "nbformat_minor": 5
}

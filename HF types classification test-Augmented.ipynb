{
 "cells": [
  {
   "cell_type": "code",
   "execution_count": 1,
   "id": "victorian-essay",
   "metadata": {},
   "outputs": [],
   "source": [
    "                                                                                                                                                                                                                                                                                                                                                                                                                                                                                                                                                                                                                                                                                                                                                                                                                                                                                                                                                                                                                                                                                                                                                                                                                                                                                                                                                                                                                                                                                                                                                                                                                                                                                                                                                                                                                                                                                                                                                                                                                                                                                                                                                                                                                                                                                                                                                                                                                                                                                                                                                                                                                                                                                                                                                                                                                                                                                                                                                                                                                                                                                                                                                                                                                                                                                                                                                                                                                                                                                                                                                                                                                                                                                                                                                                                                                                                                                                                                                                                                                                                                                                                                                                                                                                                                                                                                                                                                                                                                                                                                                                                                                                                                                                                                                                                                                                                                                                                                                                                                                                                                                                                                                                                                                                                                                                                                                                                                                                                                                                                                                                                                                                                                                                                                                                                                                                                                                                                                                                                                                                                                                                                                                                                                                                                                                                                                                                                                                                                                                                                                                                                                                                                                                                                                                                                                                                                                                                                                                                                                                                                                                                                                                                                                                                                                                                                                                                                                                                                                                                                                                                                                                                                                                                                                                                                                                                                                                                                                                                                                                                                                                                                                                                                                                                                                                                                                                                                                                                                                                                                                                                                                                                                                                                                                                                                                                                                                                                                                                                                                                                                                                                                                                                                                                    import pandas as pd\n",
    "import numpy as np\n",
    "import os\n",
    "import gc\n",
    "import io\n",
    "import warnings\n",
    "import cv2 as cv\n",
    "from Utils import * \n",
    "\n",
    "warnings.filterwarnings(\"ignore\")\n",
    "\n",
    "df = pd.read_csv('heart_failure_raw.csv')"
   ]
  },
  {
   "cell_type": "markdown",
   "id": "young-sterling",
   "metadata": {},
   "source": [
    "# Pytorch"
   ]
  },
  {
   "cell_type": "code",
   "execution_count": 2,
   "id": "affected-smart",
   "metadata": {},
   "outputs": [],
   "source": [
    "import torch\n",
    "from torch.utils.data import TensorDataset, DataLoader\n",
    "from tfrecord.torch.dataset import TFRecordDataset\n",
    "\n",
    "import torchxrayvision as xrv\n",
    "import torchvision\n",
    "from torchvision import models, datasets\n",
    "\n",
    "os.environ[\"PYTORCH_CUDA_ALLOC_CONF\"] = \"max_split_size_mb:4096\"\n",
    "\n",
    "device = torch.device(\"cuda:1\" if torch.cuda.is_available() else \"cpu\")\n"
   ]
  },
  {
   "cell_type": "markdown",
   "id": "arbitrary-thumb",
   "metadata": {},
   "source": [
    "# Test on specific demographic group"
   ]
  },
  {
   "cell_type": "code",
   "execution_count": 3,
   "id": "coated-beast",
   "metadata": {},
   "outputs": [],
   "source": [
    "tfrecord_path = \"HF_test.tfrecords\"\n",
    "index_path = None\n",
    "description = {\"jpg_bytes\": \"byte\", \"Label\": \"int\", \"Race\": \"int\", \"Age\": \"int\", \"Gender\": \"int\"}\n",
    "test_dataset = TFRecordDataset(tfrecord_path, index_path = None, description = description, transform = data_transform['original'])\n",
    "test_loader = torch.utils.data.DataLoader(test_dataset)"
   ]
  },
  {
   "cell_type": "code",
   "execution_count": 4,
   "id": "heavy-retro",
   "metadata": {},
   "outputs": [],
   "source": [
    "# ['MobileNetV3', 'EfficientNetV2', 'ResNet18', 'RegNet', 'ShuffleNetV2', 'MNASNet']"
   ]
  },
  {
   "cell_type": "code",
   "execution_count": 5,
   "id": "technical-actor",
   "metadata": {},
   "outputs": [],
   "source": [
    "import matplotlib.pyplot as plt\n",
    "\n",
    "races = []\n",
    "ages = []\n",
    "genders = []\n",
    "\n",
    "y_preds = [[] for j in range(5)]\n",
    "\n",
    "y_test = []\n",
    "X_test = []\n",
    "\n",
    "models = []\n",
    "\n",
    "sigmoid = torch.nn.Sigmoid()\n",
    "\n",
    "archi = 'DenseNet121_chex'\n",
    "\n",
    "for rounds in range(5):\n",
    "    models.append(define_model(archi))\n",
    "\n",
    "    models[rounds].load_state_dict(torch.load('pytorch_checkpoints/{}/{}_{}_wfish_strong'.format(archi, archi, rounds), map_location=device))\n",
    "    models[rounds].to(device)\n",
    "\n",
    "    models[rounds].eval()\n",
    "\n",
    "\n",
    "with torch.no_grad():\n",
    "    for i, tdata in enumerate(test_loader):\n",
    "        tinputs, tlabels, traces, tages, tgenders = tdata['jpg_bytes'], tdata['Label'], tdata['Race'], tdata['Age'], tdata['Gender']\n",
    "\n",
    "        tinputs = tinputs.float().to(device)\n",
    "        tlabels = tlabels.float().to(device)\n",
    "        \n",
    "        \n",
    "        y_test.append(tlabels.item())\n",
    "        races.append(traces.item())\n",
    "        ages.append(tages.item())\n",
    "        genders.append(tgenders.item())\n",
    "\n",
    "        for i in range(5):\n",
    "            toutputs = sigmoid(models[i](tinputs))\n",
    "            y_preds[i].append(toutputs.item())"
   ]
  },
  {
   "cell_type": "code",
   "execution_count": 7,
   "id": "appreciated-present",
   "metadata": {},
   "outputs": [],
   "source": [
    "y_preds = np.array(y_preds)\n",
    "y_test = np.array(y_test)\n",
    "races = np.array(races)\n",
    "ages = np.array(ages)\n",
    "genders = np.array(genders)"
   ]
  },
  {
   "cell_type": "markdown",
   "id": "personalized-alpha",
   "metadata": {},
   "source": [
    "## Overall"
   ]
  },
  {
   "cell_type": "code",
   "execution_count": 8,
   "id": "working-potter",
   "metadata": {},
   "outputs": [
    {
     "name": "stdout",
     "output_type": "stream",
     "text": [
      "AUC : 0.67, CI: [0.64 - 0.69]\n",
      "ACC : 0.62, CI: [0.56 - 0.68]\n",
      "F1 score : 0.62, CI: [0.57 - 0.67]\n",
      "Thresh: 0.6514074802398682\n"
     ]
    },
    {
     "data": {
      "image/png": "[encoded data removed]",
      "text/plain": [
       "<Figure size 432x288 with 1 Axes>"
      ]
     },
     "metadata": {
      "needs_background": "light"
     },
     "output_type": "display_data"
    }
   ],
   "source": [
    "auc4amodel = []\n",
    "acc4amodel = []\n",
    "f14amodel = []\n",
    "\n",
    "for i in range(5):\n",
    "\n",
    "    fpr, tpr, threshes = metrics.roc_curve(y_test,  y_preds[i])\n",
    "\n",
    "    best_thresh = get_optimal_youden_threshold(tpr, fpr, threshes)\n",
    "\n",
    "    auc4amodel.append(metrics.auc(fpr, tpr))\n",
    "\n",
    "    best_thresh = get_optimal_youden_threshold(tpr, fpr, threshes)\n",
    "\n",
    "    acc4amodel.append(metrics.accuracy_score(y_test,  np.where(y_preds[i] >= best_thresh, 1, 0)))\n",
    "\n",
    "    f14amodel.append(metrics.f1_score(y_test,  np.where(y_preds[i] >= best_thresh, 1, 0), average='weighted'))\n",
    "\n",
    "get_CI('AUC', auc4amodel)\n",
    "get_CI('ACC', acc4amodel)\n",
    "get_CI('F1 score', f14amodel)\n",
    "\n",
    "print('Thresh:', best_thresh)\n",
    "plt.hist(np.mean(y_preds, axis=0), bins=100)\n",
    "plt.show()"
   ]
  },
  {
   "cell_type": "markdown",
   "id": "employed-signature",
   "metadata": {},
   "source": [
    "## Race"
   ]
  },
  {
   "cell_type": "code",
   "execution_count": 9,
   "id": "devoted-pearl",
   "metadata": {},
   "outputs": [
    {
     "name": "stdout",
     "output_type": "stream",
     "text": [
      "WHITE\n",
      "524\n",
      "AUC : 0.66, CI: [0.63 - 0.68]\n",
      "ACC : 0.62, CI: [0.55 - 0.68]\n",
      "F1 score : 0.61, CI: [0.55 - 0.68]\n"
     ]
    },
    {
     "data": {
      "image/png": "[encoded data removed]",
      "text/plain": [
       "<Figure size 432x288 with 1 Axes>"
      ]
     },
     "metadata": {
      "needs_background": "light"
     },
     "output_type": "display_data"
    },
    {
     "name": "stdout",
     "output_type": "stream",
     "text": [
      "----------------------------\n",
      "BLACK/AFRICAN AMERICAN\n",
      "137\n",
      "AUC : 0.71, CI: [0.69 - 0.73]\n",
      "ACC : 0.69, CI: [0.58 - 0.81]\n",
      "F1 score : 0.70, CI: [0.58 - 0.81]\n"
     ]
    },
    {
     "data": {
      "image/png": "[encoded data removed]",
      "text/plain": [
       "<Figure size 432x288 with 1 Axes>"
      ]
     },
     "metadata": {
      "needs_background": "light"
     },
     "output_type": "display_data"
    },
    {
     "name": "stdout",
     "output_type": "stream",
     "text": [
      "----------------------------\n",
      "HISPANIC/LATINO\n",
      "45\n",
      "AUC : 0.73, CI: [0.62 - 0.84]\n",
      "ACC : 0.74, CI: [0.67 - 0.82]\n",
      "F1 score : 0.73, CI: [0.64 - 0.82]\n"
     ]
    },
    {
     "data": {
      "image/png": "[encoded data removed]",
      "text/plain": [
       "<Figure size 432x288 with 1 Axes>"
      ]
     },
     "metadata": {
      "needs_background": "light"
     },
     "output_type": "display_data"
    },
    {
     "name": "stdout",
     "output_type": "stream",
     "text": [
      "----------------------------\n",
      "OTHER\n",
      "42\n",
      "AUC : 0.52, CI: [0.48 - 0.55]\n",
      "ACC : 0.56, CI: [0.46 - 0.65]\n",
      "F1 score : 0.55, CI: [0.42 - 0.68]\n"
     ]
    },
    {
     "data": {
      "image/png": "[encoded data removed]",
      "text/plain": [
       "<Figure size 432x288 with 1 Axes>"
      ]
     },
     "metadata": {
      "needs_background": "light"
     },
     "output_type": "display_data"
    },
    {
     "name": "stdout",
     "output_type": "stream",
     "text": [
      "----------------------------\n",
      "ASIAN\n",
      "21\n",
      "AUC : 0.70, CI: [0.61 - 0.80]\n",
      "ACC : 0.71, CI: [0.62 - 0.81]\n",
      "F1 score : 0.71, CI: [0.60 - 0.81]\n"
     ]
    },
    {
     "data": {
      "image/png": "[encoded data removed]",
      "text/plain": [
       "<Figure size 432x288 with 1 Axes>"
      ]
     },
     "metadata": {
      "needs_background": "light"
     },
     "output_type": "display_data"
    },
    {
     "name": "stdout",
     "output_type": "stream",
     "text": [
      "----------------------------\n"
     ]
    }
   ],
   "source": [
    "race_list = ['WHITE', 'BLACK/AFRICAN AMERICAN', 'HISPANIC/LATINO', 'OTHER', 'ASIAN']\n",
    "\n",
    "for group in np.unique(races):\n",
    "    \n",
    "    print(race_list[group])\n",
    "    \n",
    "    idx = np.where(races == group)[0]\n",
    "    print(len(idx))\n",
    "    \n",
    "    auc4amodel = []\n",
    "    acc4amodel = []\n",
    "    f14amodel = []\n",
    "\n",
    "    for i in range(5):\n",
    "    \n",
    "        fpr, tpr, threshes = metrics.roc_curve(y_test[idx],  y_preds[i, idx])\n",
    "\n",
    "        best_thresh = get_optimal_youden_threshold(tpr, fpr, threshes)\n",
    "        \n",
    "        auc4amodel.append(metrics.auc(fpr, tpr))\n",
    "\n",
    "        best_thresh = get_optimal_youden_threshold(tpr, fpr, threshes)\n",
    "\n",
    "        acc4amodel.append(metrics.accuracy_score(y_test[idx],  np.where(y_preds[i, idx] >= best_thresh, 1, 0)))\n",
    "\n",
    "        f14amodel.append(metrics.f1_score(y_test[idx],  np.where(y_preds[i, idx] >= best_thresh, 1, 0), average='weighted'))\n",
    "        \n",
    "    get_CI('AUC', auc4amodel)\n",
    "    get_CI('ACC', acc4amodel)\n",
    "    get_CI('F1 score', f14amodel)\n",
    "    \n",
    "    plt.hist(np.mean(y_preds, axis=0)[idx], bins=100)\n",
    "    plt.show()\n",
    "\n",
    "    print('----------------------------')"
   ]
  },
  {
   "cell_type": "markdown",
   "id": "bearing-bryan",
   "metadata": {},
   "source": [
    "## Age"
   ]
  },
  {
   "cell_type": "code",
   "execution_count": 10,
   "id": "progressive-outside",
   "metadata": {},
   "outputs": [
    {
     "name": "stdout",
     "output_type": "stream",
     "text": [
      "0-65\n",
      "244\n",
      "AUC : 0.73, CI: [0.70 - 0.76]\n",
      "ACC : 0.70, CI: [0.66 - 0.74]\n",
      "F1 score : 0.70, CI: [0.65 - 0.74]\n"
     ]
    },
    {
     "data": {
      "image/png": "[encoded data removed]",
      "text/plain": [
       "<Figure size 432x288 with 1 Axes>"
      ]
     },
     "metadata": {
      "needs_background": "light"
     },
     "output_type": "display_data"
    },
    {
     "name": "stdout",
     "output_type": "stream",
     "text": [
      "----------------------------\n",
      "65-80\n",
      "271\n",
      "AUC : 0.65, CI: [0.58 - 0.71]\n",
      "ACC : 0.61, CI: [0.52 - 0.69]\n",
      "F1 score : 0.60, CI: [0.51 - 0.69]\n"
     ]
    },
    {
     "data": {
      "image/png": "[encoded data removed]",
      "text/plain": [
       "<Figure size 432x288 with 1 Axes>"
      ]
     },
     "metadata": {
      "needs_background": "light"
     },
     "output_type": "display_data"
    },
    {
     "name": "stdout",
     "output_type": "stream",
     "text": [
      "----------------------------\n",
      "80+\n",
      "254\n",
      "AUC : 0.61, CI: [0.59 - 0.64]\n",
      "ACC : 0.57, CI: [0.51 - 0.64]\n",
      "F1 score : 0.58, CI: [0.52 - 0.65]\n"
     ]
    },
    {
     "data": {
      "image/png": "[encoded data removed]",
      "text/plain": [
       "<Figure size 432x288 with 1 Axes>"
      ]
     },
     "metadata": {
      "needs_background": "light"
     },
     "output_type": "display_data"
    },
    {
     "name": "stdout",
     "output_type": "stream",
     "text": [
      "----------------------------\n"
     ]
    }
   ],
   "source": [
    "age_list = ['0-65', '65-80', '80+']\n",
    "\n",
    "for group in np.unique(ages):\n",
    "    \n",
    "    print(age_list[group])\n",
    "    \n",
    "    idx = np.where(ages == group)[0]\n",
    "    print(len(idx))\n",
    "    \n",
    "    auc4amodel = []\n",
    "    acc4amodel = []\n",
    "    f14amodel = []\n",
    "\n",
    "    for i in range(5):\n",
    "\n",
    "    \n",
    "        fpr, tpr, threshes = metrics.roc_curve(y_test[idx],  y_preds[i, idx])\n",
    "\n",
    "        best_thresh = get_optimal_youden_threshold(tpr, fpr, threshes)\n",
    "        \n",
    "        auc4amodel.append(metrics.auc(fpr, tpr))\n",
    "\n",
    "        best_thresh = get_optimal_youden_threshold(tpr, fpr, threshes)\n",
    "\n",
    "        acc4amodel.append(metrics.accuracy_score(y_test[idx],  np.where(y_preds[i, idx] >= best_thresh, 1, 0)))\n",
    "\n",
    "        f14amodel.append(metrics.f1_score(y_test[idx],  np.where(y_preds[i, idx] >= best_thresh, 1, 0), average='weighted'))\n",
    "        \n",
    "    get_CI('AUC', auc4amodel)\n",
    "    get_CI('ACC', acc4amodel)\n",
    "    get_CI('F1 score', f14amodel)\n",
    "    \n",
    "    plt.hist(np.mean(y_preds, axis=0)[idx], bins=100)\n",
    "    plt.show()\n",
    "\n",
    "    print('----------------------------')"
   ]
  },
  {
   "cell_type": "markdown",
   "id": "radical-style",
   "metadata": {},
   "source": [
    "## Gender"
   ]
  },
  {
   "cell_type": "code",
   "execution_count": 12,
   "id": "mechanical-netscape",
   "metadata": {},
   "outputs": [
    {
     "name": "stdout",
     "output_type": "stream",
     "text": [
      "Male\n",
      "380\n",
      "AUC : 0.63, CI: [0.58 - 0.67]\n",
      "ACC : 0.61, CI: [0.56 - 0.66]\n",
      "F1 score : 0.60, CI: [0.54 - 0.65]\n"
     ]
    },
    {
     "data": {
      "image/png": "[encoded data removed]",
      "text/plain": [
       "<Figure size 432x288 with 1 Axes>"
      ]
     },
     "metadata": {
      "needs_background": "light"
     },
     "output_type": "display_data"
    },
    {
     "name": "stdout",
     "output_type": "stream",
     "text": [
      "----------------------------\n",
      "Female\n",
      "389\n",
      "AUC : 0.64, CI: [0.61 - 0.66]\n",
      "ACC : 0.65, CI: [0.50 - 0.80]\n",
      "F1 score : 0.64, CI: [0.53 - 0.76]\n"
     ]
    },
    {
     "data": {
      "image/png": "[encoded data removed]",
      "text/plain": [
       "<Figure size 432x288 with 1 Axes>"
      ]
     },
     "metadata": {
      "needs_background": "light"
     },
     "output_type": "display_data"
    },
    {
     "name": "stdout",
     "output_type": "stream",
     "text": [
      "----------------------------\n"
     ]
    }
   ],
   "source": [
    "gender_list = ['Male', 'Female']\n",
    "\n",
    "for group in np.unique(genders):\n",
    "    \n",
    "    print(gender_list[group])\n",
    "    \n",
    "    idx = np.where(genders == group)[0]\n",
    "    \n",
    "    print(len(idx))\n",
    "    \n",
    "    auc4amodel = []\n",
    "    acc4amodel = []\n",
    "    f14amodel = []\n",
    "\n",
    "    for i in range(5):\n",
    "\n",
    "    \n",
    "        fpr, tpr, threshes = metrics.roc_curve(y_test[idx],  y_preds[i, idx])\n",
    "\n",
    "        best_thresh = get_optimal_youden_threshold(tpr, fpr, threshes)\n",
    "        \n",
    "        auc4amodel.append(metrics.auc(fpr, tpr))\n",
    "\n",
    "        best_thresh = get_optimal_youden_threshold(tpr, fpr, threshes)\n",
    "\n",
    "        acc4amodel.append(metrics.accuracy_score(y_test[idx],  np.where(y_preds[i, idx] >= best_thresh, 1, 0)))\n",
    "\n",
    "        f14amodel.append(metrics.f1_score(y_test[idx],  np.where(y_preds[i, idx] >= best_thresh, 1, 0), average='weighted'))\n",
    "        \n",
    "    get_CI('AUC', auc4amodel)\n",
    "    get_CI('ACC', acc4amodel)\n",
    "    get_CI('F1 score', f14amodel)\n",
    "    \n",
    "    plt.hist(np.mean(y_preds, axis=0)[idx], bins=100)\n",
    "    plt.show()\n",
    "\n",
    "    print('----------------------------')"
   ]
  },
  {
   "cell_type": "code",
   "execution_count": null,
   "id": "skilled-projector",
   "metadata": {},
   "outputs": [],
   "source": []
  }
 ],
 "metadata": {
  "kernelspec": {
   "display_name": "Python 3",
   "language": "python",
   "name": "python3"
  },
  "language_info": {
   "codemirror_mode": {
    "name": "ipython",
    "version": 3
   },
   "file_extension": ".py",
   "mimetype": "text/x-python",
   "name": "python",
   "nbconvert_exporter": "python",
   "pygments_lexer": "ipython3",
   "version": "3.7.10"
  }
 },
 "nbformat": 4,
 "nbformat_minor": 5
}

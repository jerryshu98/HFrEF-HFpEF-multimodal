{
 "cells": [
  {
   "cell_type": "code",
   "execution_count": 1,
   "id": "db2da039-3b58-4750-9fa8-b4333c39aa94",
   "metadata": {},
   "outputs": [
    {
     "name": "stderr",
     "output_type": "stream",
     "text": [
      "2024-11-27 16:11:18.162946: I tensorflow/core/util/port.cc:113] oneDNN custom operations are on. You may see slightly different numerical results due to floating-point round-off errors from different computation orders. To turn them off, set the environment variable `TF_ENABLE_ONEDNN_OPTS=0`.\n",
      "2024-11-27 16:11:18.193995: E external/local_xla/xla/stream_executor/cuda/cuda_dnn.cc:9261] Unable to register cuDNN factory: Attempting to register factory for plugin cuDNN when one has already been registered\n",
      "2024-11-27 16:11:18.194017: E external/local_xla/xla/stream_executor/cuda/cuda_fft.cc:607] Unable to register cuFFT factory: Attempting to register factory for plugin cuFFT when one has already been registered\n",
      "2024-11-27 16:11:18.194932: E external/local_xla/xla/stream_executor/cuda/cuda_blas.cc:1515] Unable to register cuBLAS factory: Attempting to register factory for plugin cuBLAS when one has already been registered\n",
      "2024-11-27 16:11:18.200478: I tensorflow/core/platform/cpu_feature_guard.cc:182] This TensorFlow binary is optimized to use available CPU instructions in performance-critical operations.\n",
      "To enable the following instructions: AVX2 AVX512F AVX512_VNNI FMA, in other operations, rebuild TensorFlow with the appropriate compiler flags.\n",
      "2024-11-27 16:11:18.821660: W tensorflow/compiler/tf2tensorrt/utils/py_utils.cc:38] TF-TRT Warning: Could not find TensorRT\n"
     ]
    }
   ],
   "source": [
    "import tensorflow as tf\n",
    "import io\n",
    "import numpy as np\n",
    "import cv2 as cv\n",
    "import matplotlib.pyplot as plt\n",
    "from tensorflow import keras\n",
    "from tensorflow.keras import layers, models\n",
    "from tensorflow.keras import Sequential\n",
    "from tensorflow.keras.layers import Dense,Conv2D,MaxPooling2D,Flatten,Dropout, BatchNormalization\n",
    "from tensorflow.keras.preprocessing.image import ImageDataGenerator\n",
    "import pandas as pd\n",
    "from cv2 import imread, IMREAD_GRAYSCALE # IMREAD_GRAYSCALE allow you to load the image as gray scale image\n",
    "from tensorflow.keras.preprocessing.image import ImageDataGenerator\n",
    "import math\n",
    "import csv\n",
    "import gc"
   ]
  },
  {
   "cell_type": "code",
   "execution_count": 2,
   "id": "8cdf0261-e829-4315-aad7-4dc2f4ca28e7",
   "metadata": {},
   "outputs": [
    {
     "name": "stdout",
     "output_type": "stream",
     "text": [
      "Wed Nov 27 16:11:19 2024       \n",
      "+---------------------------------------------------------------------------------------+\n",
      "| NVIDIA-SMI 535.183.06             Driver Version: 535.183.06   CUDA Version: 12.2     |\n",
      "|-----------------------------------------+----------------------+----------------------+\n",
      "| GPU  Name                 Persistence-M | Bus-Id        Disp.A | Volatile Uncorr. ECC |\n",
      "| Fan  Temp   Perf          Pwr:Usage/Cap |         Memory-Usage | GPU-Util  Compute M. |\n",
      "|                                         |                      |               MIG M. |\n",
      "|=========================================+======================+======================|\n",
      "|   0  NVIDIA GeForce RTX 3090        Off | 00000000:65:00.0 Off |                  N/A |\n",
      "|  0%   45C    P8              32W / 370W |      3MiB / 24576MiB |      0%      Default |\n",
      "|                                         |                      |                  N/A |\n",
      "+-----------------------------------------+----------------------+----------------------+\n",
      "|   1  NVIDIA GeForce RTX 3090        Off | 00000000:B3:00.0 Off |                  N/A |\n",
      "|  0%   35C    P8              19W / 370W |  22723MiB / 24576MiB |      0%      Default |\n",
      "|                                         |                      |                  N/A |\n",
      "+-----------------------------------------+----------------------+----------------------+\n",
      "                                                                                         \n",
      "+---------------------------------------------------------------------------------------+\n",
      "| Processes:                                                                            |\n",
      "|  GPU   GI   CI        PID   Type   Process name                            GPU Memory |\n",
      "|        ID   ID                                                             Usage      |\n",
      "|=======================================================================================|\n",
      "|    1   N/A  N/A   3994517      C   /opt/tljh/user/bin/python                  1886MiB |\n",
      "|    1   N/A  N/A   4011103      C   ...yan1211/.conda/envs/test/bin/python     1308MiB |\n",
      "|    1   N/A  N/A   4014681      C   ...yan1211/.conda/envs/test/bin/python    19518MiB |\n",
      "+---------------------------------------------------------------------------------------+\n"
     ]
    }
   ],
   "source": [
    "!nvidia-smi"
   ]
  },
  {
   "cell_type": "code",
   "execution_count": 3,
   "id": "180bff07-71a3-4928-b31d-27e95ff93b1d",
   "metadata": {},
   "outputs": [],
   "source": [
    "file1 = 'LUNA/HF_comorbidities_train.tfrecords'\n",
    "file2 = 'LUNA/HF_comorbidities_valid.tfrecords'\n",
    "file3 = 'LUNA/HF_comorbidities_test.tfrecords'\n",
    "cormorbidities = ['CAD', 'COPD', 'Asthma', 'CKD', 'Diabetes', 'Hypertension', 'ND', 'Dementia', 'LC', 'RibF', 'Pneumothorax', 'Pneumonia']"
   ]
  },
  {
   "cell_type": "code",
   "execution_count": 4,
   "id": "467f174d-d3bd-4534-a880-68c1e7f37539",
   "metadata": {},
   "outputs": [],
   "source": [
    "gpus = tf.config.list_physical_devices(device_type='GPU')\n",
    "tf.config.set_visible_devices(devices=gpus[1], device_type='GPU')"
   ]
  },
  {
   "cell_type": "code",
   "execution_count": 5,
   "id": "46f34e59-f569-4707-9fd0-80181d7373cc",
   "metadata": {},
   "outputs": [
    {
     "name": "stderr",
     "output_type": "stream",
     "text": [
      "2024-11-27 16:11:20.173150: I tensorflow/core/common_runtime/gpu/gpu_device.cc:1929] Created device /job:localhost/replica:0/task:0/device:GPU:0 with 1053 MB memory:  -> device: 1, name: NVIDIA GeForce RTX 3090, pci bus id: 0000:b3:00.0, compute capability: 8.6\n"
     ]
    }
   ],
   "source": [
    "raw_dataset = tf.data.TFRecordDataset(file1)\n",
    "X_train = []\n",
    "Y_train = []\n",
    "\n",
    "for raw_record in raw_dataset:\n",
    "    sub_x = []\n",
    "    sub_y = []\n",
    "\n",
    "    example = tf.train.Example()\n",
    "    example.ParseFromString(raw_record.numpy())\n",
    "\n",
    "    Y_train.append(example.features.feature['Label'].int64_list.value[0])\n",
    "    # temp = np.zeros(5)\n",
    "    # i = example.features.feature['Race'].int64_list.value[0]\n",
    "    # temp[i] = 1\n",
    "    # sub_x.append(temp)\n",
    "    # sub_x.append(example.features.feature['Race'].int64_list.value[0])\n",
    "    # sub_x.append(example.features.feature['Age'].int64_list.value[0])\n",
    "    # sub_x.append(example.features.feature['Gender'].int64_list.value[0])\n",
    "    for idx in range(12):\n",
    "        sub_x.append(example.features.feature[cormorbidities[idx]].int64_list.value[0])\n",
    "\n",
    "    X_train.append(sub_x)\n",
    "    # Y_train.append(sub_y)\n",
    "\n",
    "X_train = np.array(X_train)\n",
    "X_train = X_train.astype(np.int64)\n",
    "Y_train = np.array(Y_train)\n",
    "Y_train = Y_train.astype(np.int64)"
   ]
  },
  {
   "cell_type": "code",
   "execution_count": 6,
   "id": "acf4e49c-c0d6-4315-bd02-323e1b8caa96",
   "metadata": {},
   "outputs": [],
   "source": [
    "raw_dataset = tf.data.TFRecordDataset(file2)\n",
    "X_valid = []\n",
    "Y_valid = []\n",
    "\n",
    "for raw_record in raw_dataset:\n",
    "    sub_x = []\n",
    "    sub_y = []\n",
    "\n",
    "    example = tf.train.Example()\n",
    "    example.ParseFromString(raw_record.numpy())\n",
    "\n",
    "    sub_y.append(example.features.feature['Label'].int64_list.value[0])\n",
    "    # temp = np.zeros(5)\n",
    "    # i = example.features.feature['Race'].int64_list.value[0]\n",
    "    # temp[i] = 1\n",
    "    # sub_x.append(temp)\n",
    "    # sub_x.append(example.features.feature['Race'].int64_list.value[0])\n",
    "    # sub_x.append(example.features.feature['Age'].int64_list.value[0])\n",
    "    # sub_x.append(example.features.feature['Gender'].int64_list.value[0])\n",
    "    for idx in range(12):\n",
    "        sub_x.append(example.features.feature[cormorbidities[idx]].int64_list.value[0])\n",
    "    \n",
    "    X_valid.append(sub_x)\n",
    "    Y_valid.append(sub_y)\n",
    "\n",
    "X_valid = np.array(X_valid)\n",
    "X_valid = X_valid.astype(np.int64)\n",
    "Y_valid = np.array(Y_valid)\n",
    "Y_valid = Y_valid.astype(np.int64)"
   ]
  },
  {
   "cell_type": "code",
   "execution_count": 7,
   "id": "320f37d1-014a-4bed-8ad4-122ea7b14e1f",
   "metadata": {},
   "outputs": [],
   "source": [
    "raw_dataset = tf.data.TFRecordDataset(file3)\n",
    "X_test = []\n",
    "Y_test = []\n",
    "\n",
    "for raw_record in raw_dataset:\n",
    "    sub_x = []\n",
    "    sub_y = []\n",
    "\n",
    "    example = tf.train.Example()\n",
    "    example.ParseFromString(raw_record.numpy())\n",
    "\n",
    "    Y_test.append(example.features.feature['Label'].int64_list.value[0])\n",
    "    # temp = np.zeros(5)\n",
    "    # i = example.features.feature['Race'].int64_list.value[0]\n",
    "    # temp[i] = 1\n",
    "    # sub_x.append(temp)\n",
    "    # sub_x.append(example.features.feature['Race'].int64_list.value[0])\n",
    "    # sub_x.append(example.features.feature['Age'].int64_list.value[0])\n",
    "    # sub_x.append(example.features.feature['Gender'].int64_list.value[0])\n",
    "    for idx in range(12):\n",
    "        sub_x.append(example.features.feature[cormorbidities[idx]].int64_list.value[0])\n",
    "\n",
    "    X_test.append(sub_x)\n",
    "    # Y_test.append(sub_y)\n",
    "\n",
    "X_test = np.array(X_test)\n",
    "X_test = X_test.astype(np.int64)\n",
    "Y_test = np.array(Y_test)\n",
    "Y_test = Y_test.astype(np.int64)"
   ]
  },
  {
   "cell_type": "code",
   "execution_count": 8,
   "id": "803ea4cd-8ced-4628-b90b-9bfd51a3cb23",
   "metadata": {},
   "outputs": [
    {
     "name": "stdout",
     "output_type": "stream",
     "text": [
      "(2697, 12) (2697,)\n",
      "(809, 12) (809, 1)\n",
      "(347, 12) (347,)\n"
     ]
    }
   ],
   "source": [
    "print(X_train.shape, Y_train.shape)\n",
    "print(X_valid.shape, Y_valid.shape)\n",
    "print(X_test.shape, Y_test.shape)"
   ]
  },
  {
   "cell_type": "code",
   "execution_count": 9,
   "id": "601cefe7-a5bb-4094-b3bb-2a9d03369e45",
   "metadata": {},
   "outputs": [],
   "source": [
    "from sklearn.model_selection import train_test_split\n",
    "import pandas as pd\n",
    "import numpy as np\n",
    "from keras.models import Sequential\n",
    "from keras.layers import Dense, Activation, Flatten\n",
    "from sklearn.ensemble import RandomForestClassifier\n",
    "from sklearn.metrics import f1_score\n",
    "from sklearn.metrics import accuracy_score\n",
    "from keras.callbacks import ModelCheckpoint\n",
    "from sklearn.metrics import roc_curve, auc, roc_auc_score"
   ]
  },
  {
   "cell_type": "code",
   "execution_count": 10,
   "id": "80a0a9b6-bb8d-400e-89e7-a189eff82da5",
   "metadata": {},
   "outputs": [],
   "source": [
    "parameters = {'bootstrap': True,\n",
    "              'min_samples_leaf': 3,\n",
    "              'n_estimators': 50, \n",
    "              'min_samples_split': 10,\n",
    "              'max_features': 'sqrt',\n",
    "              'max_depth': 6,\n",
    "              'max_leaf_nodes': None}"
   ]
  },
  {
   "cell_type": "code",
   "execution_count": 11,
   "id": "c64b458d-1eb8-4a9b-8732-6c31a3046015",
   "metadata": {},
   "outputs": [
    {
     "data": {
      "text/html": [
       "<style>#sk-container-id-1 {color: black;}#sk-container-id-1 pre{padding: 0;}#sk-container-id-1 div.sk-toggleable {background-color: white;}#sk-container-id-1 label.sk-toggleable__label {cursor: pointer;display: block;width: 100%;margin-bottom: 0;padding: 0.3em;box-sizing: border-box;text-align: center;}#sk-container-id-1 label.sk-toggleable__label-arrow:before {content: \"▸\";float: left;margin-right: 0.25em;color: #696969;}#sk-container-id-1 label.sk-toggleable__label-arrow:hover:before {color: black;}#sk-container-id-1 div.sk-estimator:hover label.sk-toggleable__label-arrow:before {color: black;}#sk-container-id-1 div.sk-toggleable__content {max-height: 0;max-width: 0;overflow: hidden;text-align: left;background-color: #f0f8ff;}#sk-container-id-1 div.sk-toggleable__content pre {margin: 0.2em;color: black;border-radius: 0.25em;background-color: #f0f8ff;}#sk-container-id-1 input.sk-toggleable__control:checked~div.sk-toggleable__content {max-height: 200px;max-width: 100%;overflow: auto;}#sk-container-id-1 input.sk-toggleable__control:checked~label.sk-toggleable__label-arrow:before {content: \"▾\";}#sk-container-id-1 div.sk-estimator input.sk-toggleable__control:checked~label.sk-toggleable__label {background-color: #d4ebff;}#sk-container-id-1 div.sk-label input.sk-toggleable__control:checked~label.sk-toggleable__label {background-color: #d4ebff;}#sk-container-id-1 input.sk-hidden--visually {border: 0;clip: rect(1px 1px 1px 1px);clip: rect(1px, 1px, 1px, 1px);height: 1px;margin: -1px;overflow: hidden;padding: 0;position: absolute;width: 1px;}#sk-container-id-1 div.sk-estimator {font-family: monospace;background-color: #f0f8ff;border: 1px dotted black;border-radius: 0.25em;box-sizing: border-box;margin-bottom: 0.5em;}#sk-container-id-1 div.sk-estimator:hover {background-color: #d4ebff;}#sk-container-id-1 div.sk-parallel-item::after {content: \"\";width: 100%;border-bottom: 1px solid gray;flex-grow: 1;}#sk-container-id-1 div.sk-label:hover label.sk-toggleable__label {background-color: #d4ebff;}#sk-container-id-1 div.sk-serial::before {content: \"\";position: absolute;border-left: 1px solid gray;box-sizing: border-box;top: 0;bottom: 0;left: 50%;z-index: 0;}#sk-container-id-1 div.sk-serial {display: flex;flex-direction: column;align-items: center;background-color: white;padding-right: 0.2em;padding-left: 0.2em;position: relative;}#sk-container-id-1 div.sk-item {position: relative;z-index: 1;}#sk-container-id-1 div.sk-parallel {display: flex;align-items: stretch;justify-content: center;background-color: white;position: relative;}#sk-container-id-1 div.sk-item::before, #sk-container-id-1 div.sk-parallel-item::before {content: \"\";position: absolute;border-left: 1px solid gray;box-sizing: border-box;top: 0;bottom: 0;left: 50%;z-index: -1;}#sk-container-id-1 div.sk-parallel-item {display: flex;flex-direction: column;z-index: 1;position: relative;background-color: white;}#sk-container-id-1 div.sk-parallel-item:first-child::after {align-self: flex-end;width: 50%;}#sk-container-id-1 div.sk-parallel-item:last-child::after {align-self: flex-start;width: 50%;}#sk-container-id-1 div.sk-parallel-item:only-child::after {width: 0;}#sk-container-id-1 div.sk-dashed-wrapped {border: 1px dashed gray;margin: 0 0.4em 0.5em 0.4em;box-sizing: border-box;padding-bottom: 0.4em;background-color: white;}#sk-container-id-1 div.sk-label label {font-family: monospace;font-weight: bold;display: inline-block;line-height: 1.2em;}#sk-container-id-1 div.sk-label-container {text-align: center;}#sk-container-id-1 div.sk-container {/* jupyter's `normalize.less` sets `[hidden] { display: none; }` but bootstrap.min.css set `[hidden] { display: none !important; }` so we also need the `!important` here to be able to override the default hidden behavior on the sphinx rendered scikit-learn.org. See: https://github.com/scikit-learn/scikit-learn/issues/21755 */display: inline-block !important;position: relative;}#sk-container-id-1 div.sk-text-repr-fallback {display: none;}</style><div id=\"sk-container-id-1\" class=\"sk-top-container\"><div class=\"sk-text-repr-fallback\"><pre>RandomForestClassifier(max_depth=6, min_samples_leaf=3, min_samples_split=10,\n",
       "                       n_estimators=50)</pre><b>In a Jupyter environment, please rerun this cell to show the HTML representation or trust the notebook. <br />On GitHub, the HTML representation is unable to render, please try loading this page with nbviewer.org.</b></div><div class=\"sk-container\" hidden><div class=\"sk-item\"><div class=\"sk-estimator sk-toggleable\"><input class=\"sk-toggleable__control sk-hidden--visually\" id=\"sk-estimator-id-1\" type=\"checkbox\" checked><label for=\"sk-estimator-id-1\" class=\"sk-toggleable__label sk-toggleable__label-arrow\">RandomForestClassifier</label><div class=\"sk-toggleable__content\"><pre>RandomForestClassifier(max_depth=6, min_samples_leaf=3, min_samples_split=10,\n",
       "                       n_estimators=50)</pre></div></div></div></div></div>"
      ],
      "text/plain": [
       "RandomForestClassifier(max_depth=6, min_samples_leaf=3, min_samples_split=10,\n",
       "                       n_estimators=50)"
      ]
     },
     "execution_count": 11,
     "metadata": {},
     "output_type": "execute_result"
    }
   ],
   "source": [
    "RF_model = RandomForestClassifier(**parameters)\n",
    "RF_model.fit(X_train, Y_train)"
   ]
  },
  {
   "cell_type": "code",
   "execution_count": 12,
   "id": "3c8447b7-524c-4ddc-8074-2d741ac7d468",
   "metadata": {},
   "outputs": [
    {
     "name": "stdout",
     "output_type": "stream",
     "text": [
      "0.5994236311239193\n"
     ]
    }
   ],
   "source": [
    "RF_predictions = RF_model.predict(X_test)\n",
    "score = accuracy_score(Y_test ,RF_predictions)\n",
    "print(score)"
   ]
  },
  {
   "cell_type": "code",
   "execution_count": 13,
   "id": "550a1a20-d42a-4136-b1e1-12ccb04d1f02",
   "metadata": {},
   "outputs": [
    {
     "data": {
      "text/plain": [
       "0.583221589004358"
      ]
     },
     "execution_count": 13,
     "metadata": {},
     "output_type": "execute_result"
    }
   ],
   "source": [
    "y_pred_prob = RF_model.predict_proba(X_test)[:, 1] \n",
    "# fpr, tpr, thresholds = roc_curve(y_test, y_pred_prob, pos_label=1)\n",
    "roc_auc = roc_auc_score(Y_test, y_pred_prob) \n",
    "roc_auc"
   ]
  },
  {
   "cell_type": "code",
   "execution_count": 14,
   "id": "e34e2d03-2e88-4b6e-94a0-1b7f8374efba",
   "metadata": {},
   "outputs": [
    {
     "name": "stdout",
     "output_type": "stream",
     "text": [
      "Confusion Matrix:\n",
      "[[ 29 128]\n",
      " [ 11 179]]\n"
     ]
    },
    {
     "data": {
      "image/png": "[encoded data removed]",
      "text/plain": [
       "<Figure size 640x480 with 2 Axes>"
      ]
     },
     "metadata": {},
     "output_type": "display_data"
    }
   ],
   "source": [
    "from sklearn.metrics import confusion_matrix\n",
    "import seaborn as sns\n",
    "import matplotlib.pyplot as plt\n",
    "# Compute and display the confusion matrix\n",
    "cm = confusion_matrix(Y_test, RF_predictions)\n",
    "print(\"Confusion Matrix:\")\n",
    "print(cm)\n",
    "sns.heatmap(cm, annot=True, fmt='g')\n",
    "plt.xlabel('Predicted')\n",
    "plt.ylabel('True')\n",
    "plt.title('Confusion Matrix')\n",
    "plt.show()"
   ]
  },
  {
   "cell_type": "code",
   "execution_count": 15,
   "id": "90a10226-5f9a-461b-90c3-6a71824b46d5",
   "metadata": {},
   "outputs": [],
   "source": [
    "importances = RF_model.feature_importances_"
   ]
  },
  {
   "cell_type": "code",
   "execution_count": 16,
   "id": "cbaa152d-0bda-477c-9bd7-9ed3bc7ec11a",
   "metadata": {},
   "outputs": [
    {
     "name": "stdout",
     "output_type": "stream",
     "text": [
      "[0.16066143 0.20442739 0.07844786 0.0644829  0.1138121  0.08029537\n",
      " 0.05653013 0.06920744 0.02672504 0.04747516 0.01183983 0.08609534]\n"
     ]
    }
   ],
   "source": [
    "print(importances)"
   ]
  },
  {
   "cell_type": "code",
   "execution_count": 17,
   "id": "3845e2be-46cf-41d6-bbea-13807f00e499",
   "metadata": {},
   "outputs": [
    {
     "data": {
      "text/html": [
       "<style>#sk-container-id-2 {color: black;}#sk-container-id-2 pre{padding: 0;}#sk-container-id-2 div.sk-toggleable {background-color: white;}#sk-container-id-2 label.sk-toggleable__label {cursor: pointer;display: block;width: 100%;margin-bottom: 0;padding: 0.3em;box-sizing: border-box;text-align: center;}#sk-container-id-2 label.sk-toggleable__label-arrow:before {content: \"▸\";float: left;margin-right: 0.25em;color: #696969;}#sk-container-id-2 label.sk-toggleable__label-arrow:hover:before {color: black;}#sk-container-id-2 div.sk-estimator:hover label.sk-toggleable__label-arrow:before {color: black;}#sk-container-id-2 div.sk-toggleable__content {max-height: 0;max-width: 0;overflow: hidden;text-align: left;background-color: #f0f8ff;}#sk-container-id-2 div.sk-toggleable__content pre {margin: 0.2em;color: black;border-radius: 0.25em;background-color: #f0f8ff;}#sk-container-id-2 input.sk-toggleable__control:checked~div.sk-toggleable__content {max-height: 200px;max-width: 100%;overflow: auto;}#sk-container-id-2 input.sk-toggleable__control:checked~label.sk-toggleable__label-arrow:before {content: \"▾\";}#sk-container-id-2 div.sk-estimator input.sk-toggleable__control:checked~label.sk-toggleable__label {background-color: #d4ebff;}#sk-container-id-2 div.sk-label input.sk-toggleable__control:checked~label.sk-toggleable__label {background-color: #d4ebff;}#sk-container-id-2 input.sk-hidden--visually {border: 0;clip: rect(1px 1px 1px 1px);clip: rect(1px, 1px, 1px, 1px);height: 1px;margin: -1px;overflow: hidden;padding: 0;position: absolute;width: 1px;}#sk-container-id-2 div.sk-estimator {font-family: monospace;background-color: #f0f8ff;border: 1px dotted black;border-radius: 0.25em;box-sizing: border-box;margin-bottom: 0.5em;}#sk-container-id-2 div.sk-estimator:hover {background-color: #d4ebff;}#sk-container-id-2 div.sk-parallel-item::after {content: \"\";width: 100%;border-bottom: 1px solid gray;flex-grow: 1;}#sk-container-id-2 div.sk-label:hover label.sk-toggleable__label {background-color: #d4ebff;}#sk-container-id-2 div.sk-serial::before {content: \"\";position: absolute;border-left: 1px solid gray;box-sizing: border-box;top: 0;bottom: 0;left: 50%;z-index: 0;}#sk-container-id-2 div.sk-serial {display: flex;flex-direction: column;align-items: center;background-color: white;padding-right: 0.2em;padding-left: 0.2em;position: relative;}#sk-container-id-2 div.sk-item {position: relative;z-index: 1;}#sk-container-id-2 div.sk-parallel {display: flex;align-items: stretch;justify-content: center;background-color: white;position: relative;}#sk-container-id-2 div.sk-item::before, #sk-container-id-2 div.sk-parallel-item::before {content: \"\";position: absolute;border-left: 1px solid gray;box-sizing: border-box;top: 0;bottom: 0;left: 50%;z-index: -1;}#sk-container-id-2 div.sk-parallel-item {display: flex;flex-direction: column;z-index: 1;position: relative;background-color: white;}#sk-container-id-2 div.sk-parallel-item:first-child::after {align-self: flex-end;width: 50%;}#sk-container-id-2 div.sk-parallel-item:last-child::after {align-self: flex-start;width: 50%;}#sk-container-id-2 div.sk-parallel-item:only-child::after {width: 0;}#sk-container-id-2 div.sk-dashed-wrapped {border: 1px dashed gray;margin: 0 0.4em 0.5em 0.4em;box-sizing: border-box;padding-bottom: 0.4em;background-color: white;}#sk-container-id-2 div.sk-label label {font-family: monospace;font-weight: bold;display: inline-block;line-height: 1.2em;}#sk-container-id-2 div.sk-label-container {text-align: center;}#sk-container-id-2 div.sk-container {/* jupyter's `normalize.less` sets `[hidden] { display: none; }` but bootstrap.min.css set `[hidden] { display: none !important; }` so we also need the `!important` here to be able to override the default hidden behavior on the sphinx rendered scikit-learn.org. See: https://github.com/scikit-learn/scikit-learn/issues/21755 */display: inline-block !important;position: relative;}#sk-container-id-2 div.sk-text-repr-fallback {display: none;}</style><div id=\"sk-container-id-2\" class=\"sk-top-container\"><div class=\"sk-text-repr-fallback\"><pre>RandomForestClassifier(random_state=0)</pre><b>In a Jupyter environment, please rerun this cell to show the HTML representation or trust the notebook. <br />On GitHub, the HTML representation is unable to render, please try loading this page with nbviewer.org.</b></div><div class=\"sk-container\" hidden><div class=\"sk-item\"><div class=\"sk-estimator sk-toggleable\"><input class=\"sk-toggleable__control sk-hidden--visually\" id=\"sk-estimator-id-2\" type=\"checkbox\" checked><label for=\"sk-estimator-id-2\" class=\"sk-toggleable__label sk-toggleable__label-arrow\">RandomForestClassifier</label><div class=\"sk-toggleable__content\"><pre>RandomForestClassifier(random_state=0)</pre></div></div></div></div></div>"
      ],
      "text/plain": [
       "RandomForestClassifier(random_state=0)"
      ]
     },
     "execution_count": 17,
     "metadata": {},
     "output_type": "execute_result"
    }
   ],
   "source": [
    "from sklearn.datasets import make_classification\n",
    "X, y = make_classification(\n",
    "    n_samples=1000,\n",
    "    n_features=10,\n",
    "    n_informative=3,\n",
    "    n_redundant=0,\n",
    "    n_repeated=0,\n",
    "    n_classes=3,\n",
    "    random_state=0,\n",
    "    shuffle=False,\n",
    ")\n",
    "forest = RandomForestClassifier(random_state=0)\n",
    "forest.fit(X_train, Y_train)"
   ]
  },
  {
   "cell_type": "code",
   "execution_count": 18,
   "id": "1b7ae26f-9ee7-4894-8a61-0eed9b8d6385",
   "metadata": {},
   "outputs": [
    {
     "name": "stdout",
     "output_type": "stream",
     "text": [
      "0.5561959654178674\n"
     ]
    }
   ],
   "source": [
    "forest_predictions = forest.predict(X_test)\n",
    "score = accuracy_score(Y_test ,forest_predictions)\n",
    "print(score)"
   ]
  },
  {
   "cell_type": "code",
   "execution_count": 19,
   "id": "48fde5c5-57c8-49fd-82aa-e2ef7fed9dd2",
   "metadata": {},
   "outputs": [
    {
     "name": "stdout",
     "output_type": "stream",
     "text": [
      "0.6031009051290646\n"
     ]
    }
   ],
   "source": [
    "y_pred_prob = forest.predict_proba(X_test)[:, 1] \n",
    "# fpr, tpr, thresholds = roc_curve(y_test, y_pred_prob, pos_label=1)\n",
    "roc_auc = roc_auc_score(Y_test, y_pred_prob) \n",
    "print(roc_auc)"
   ]
  },
  {
   "cell_type": "code",
   "execution_count": 31,
   "id": "e6ceb500-5106-447e-88e2-def1d55008e7",
   "metadata": {},
   "outputs": [
    {
     "name": "stdout",
     "output_type": "stream",
     "text": [
      "[0, 3, 4, 6, 7, 8, 9, 10, 12, 13, 17, 18, 19, 22, 23, 26, 27, 29, 30, 32, 33, 34, 35, 44, 45, 46, 48, 49, 52, 54, 55, 57, 59, 60, 61, 62, 63, 65, 66, 73, 75, 76, 77, 79, 80, 82, 84, 86, 88, 89, 92, 93, 94, 95, 96, 98, 100, 103, 104, 106, 112, 113, 114, 115, 121, 122, 123, 126, 130, 132, 133, 134, 135, 136, 137, 138, 139, 140, 141, 143, 144, 146, 149, 152, 153, 154, 158, 160, 161, 162, 163, 164, 165, 167, 170, 171, 172, 173, 177, 178, 182, 184, 185, 187, 188, 189, 190, 192, 193, 195, 196, 200, 202, 207, 208, 210, 211, 212, 213, 216, 217, 222, 225, 228, 230, 231, 232, 233, 235, 236, 237, 238, 239, 241, 244, 245, 246, 249, 250, 251, 252, 256, 259, 260, 261, 263, 265, 266, 267, 268, 269, 271, 272, 273, 275, 276, 280, 281, 282, 288, 290, 291, 296, 300, 303, 304, 307, 310, 311, 313, 315, 316, 317, 318, 319, 322, 324, 325, 327, 328, 329, 330, 331, 332, 333, 334, 336, 338, 340, 342, 344, 345, 346]\n"
     ]
    }
   ],
   "source": [
    "list2=np.round(y_pred_prob)\n",
    "ans2=[]\n",
    "for i in range(len(list2)):\n",
    "    if list2[i]==Y_test[i]:\n",
    "        ans2.append(i)\n",
    "print(ans2)"
   ]
  },
  {
   "cell_type": "code",
   "execution_count": 34,
   "id": "6e5c676d-7d20-422e-b320-c3b98085553a",
   "metadata": {},
   "outputs": [
    {
     "name": "stdout",
     "output_type": "stream",
     "text": [
      "209 193\n",
      "134 134 0\n"
     ]
    }
   ],
   "source": [
    "ans1=[0, 3, 4, 5, 6, 8, 10, 13, 16, 18, 23, 24, 26, 27, 29, 30, 34, 35, 36, 38, 39, 40, 41, 42, 43, 44, 45, 52, 53, 55, 56, 59, 60, 61, 62, 63, 65, 68, 70, 74, 76, 77, 79, 80, 83, 86, 88, 89, 90, 92, 93, 95, 96, 98, 100, 101, 102, 104, 105, 106, 108, 109, 110, 113, 114, 115, 117, 119, 120, 126, 128, 129, 134, 136, 137, 139, 140, 143, 145, 149, 151, 153, 154, 155, 157, 158, 159, 160, 161, 162, 165, 166, 168, 169, 171, 173, 175, 179, 180, 181, 182, 184, 185, 188, 189, 190, 192, 193, 194, 196, 197, 201, 202, 205, 207, 208, 210, 211, 212, 213, 214, 216, 217, 218, 219, 220, 222, 227, 230, 232, 233, 234, 235, 236, 237, 238, 239, 241, 242, 243, 244, 245, 246, 247, 248, 250, 252, 255, 257, 259, 260, 261, 265, 268, 269, 272, 273, 274, 275, 276, 277, 279, 280, 281, 283, 284, 288, 289, 290, 291, 292, 294, 295, 297, 298, 300, 302, 303, 304, 305, 307, 308, 311, 312, 313, 314, 315, 316, 317, 318, 322, 324, 325, 326, 327, 328, 329, 330, 332, 333, 334, 336, 339, 340, 342, 343, 344, 345, 346]\n",
    "ans2=[0, 3, 4, 6, 7, 8, 9, 10, 12, 13, 17, 18, 19, 22, 23, 26, 27, 29, 30, 32, 33, 34, 35, 44, 45, 46, 48, 49, 52, 54, 55, 57, 59, 60, 61, 62, 63, 65, 66, 73, 75, 76, 77, 79, 80, 82, 84, 86, 88, 89, 92, 93, 94, 95, 96, 98, 100, 103, 104, 106, 112, 113, 114, 115, 121, 122, 123, 126, 130, 132, 133, 134, 135, 136, 137, 138, 139, 140, 141, 143, 144, 146, 149, 152, 153, 154, 158, 160, 161, 162, 163, 164, 165, 167, 170, 171, 172, 173, 177, 178, 182, 184, 185, 187, 188, 189, 190, 192, 193, 195, 196, 200, 202, 207, 208, 210, 211, 212, 213, 216, 217, 222, 225, 228, 230, 231, 232, 233, 235, 236, 237, 238, 239, 241, 244, 245, 246, 249, 250, 251, 252, 256, 259, 260, 261, 263, 265, 266, 267, 268, 269, 271, 272, 273, 275, 276, 280, 281, 282, 288, 290, 291, 296, 300, 303, 304, 307, 310, 311, 313, 315, 316, 317, 318, 319, 322, 324, 325, 327, 328, 329, 330, 331, 332, 333, 334, 336, 338, 340, 342, 344, 345, 346]\n",
    "cnt1=0\n",
    "cnt2=0\n",
    "cnt3=0\n",
    "co1=[]\n",
    "co2=[]\n",
    "for i in ans1:\n",
    "    if i in ans2:\n",
    "        cnt1+=1\n",
    "        co1.append(i)\n",
    "for i in ans2:\n",
    "    if i in ans1:\n",
    "        cnt2+=1\n",
    "        co2.append(i)\n",
    "\n",
    "print(len(ans1), len(ans2))\n",
    "print(cnt1, cnt2, cnt3)"
   ]
  },
  {
   "cell_type": "code",
   "execution_count": 21,
   "id": "9176ce95-3825-4362-be6c-367fb0fc3da1",
   "metadata": {},
   "outputs": [
    {
     "data": {
      "text/plain": [
       "0.6031009051290646"
      ]
     },
     "execution_count": 21,
     "metadata": {},
     "output_type": "execute_result"
    }
   ],
   "source": [
    "from Utils import * \n",
    "\n",
    "fpr, tpr, threshes =metrics.roc_curve(Y_test, y_pred_prob)\n",
    "best_thresh = get_optimal_youden_threshold(tpr, fpr, threshes)\n",
    "metrics.auc(fpr, tpr)"
   ]
  },
  {
   "cell_type": "code",
   "execution_count": 22,
   "id": "80ac65a7-32d5-4e8f-8e33-a21b85a1aff3",
   "metadata": {},
   "outputs": [],
   "source": [
    "# from joblib import dump, load\n",
    "\n",
    "# dump(forest, 'random_forest_model_comorbidities.joblib')\n",
    "\n",
    "# # loaded_model = load('random_forest_model.joblib')"
   ]
  },
  {
   "cell_type": "code",
   "execution_count": 23,
   "id": "a2142308-5c94-4b1a-97d5-926a115f2c2f",
   "metadata": {},
   "outputs": [
    {
     "name": "stdout",
     "output_type": "stream",
     "text": [
      "Confusion Matrix:\n",
      "[[ 42 115]\n",
      " [ 39 151]]\n"
     ]
    },
    {
     "data": {
      "image/png": "[encoded data removed]",
      "text/plain": [
       "<Figure size 640x480 with 2 Axes>"
      ]
     },
     "metadata": {},
     "output_type": "display_data"
    }
   ],
   "source": [
    "from sklearn.metrics import confusion_matrix\n",
    "import seaborn as sns\n",
    "import matplotlib.pyplot as plt\n",
    "# Compute and display the confusion matrix\n",
    "cm = confusion_matrix(Y_test, forest_predictions)\n",
    "print(\"Confusion Matrix:\")\n",
    "print(cm)\n",
    "sns.heatmap(cm, annot=True, fmt='g')\n",
    "plt.xlabel('Predicted')\n",
    "plt.ylabel('True')\n",
    "plt.title('Confusion Matrix')\n",
    "plt.show()"
   ]
  },
  {
   "cell_type": "code",
   "execution_count": 24,
   "id": "9595770f-8d7d-408d-8221-02df7eb436b2",
   "metadata": {},
   "outputs": [],
   "source": [
    "importances = forest.feature_importances_"
   ]
  },
  {
   "cell_type": "code",
   "execution_count": 25,
   "id": "f23978bc-4374-4968-9741-2bfec670f43c",
   "metadata": {},
   "outputs": [
    {
     "name": "stdout",
     "output_type": "stream",
     "text": [
      "[0.10260139 0.12657222 0.08066139 0.08458855 0.1050944  0.12331513\n",
      " 0.08788266 0.08636469 0.02923951 0.03568131 0.02199322 0.11600553]\n"
     ]
    }
   ],
   "source": [
    "print(importances)"
   ]
  },
  {
   "cell_type": "code",
   "execution_count": 26,
   "id": "1ab2c404-ee34-4471-a0cf-ee111b0b0961",
   "metadata": {},
   "outputs": [],
   "source": [
    "forest_test = forest.predict_proba(X_test)"
   ]
  },
  {
   "cell_type": "code",
   "execution_count": 27,
   "id": "2790ea82-aea8-49ca-ae8c-8ab538ad6c31",
   "metadata": {},
   "outputs": [],
   "source": [
    "positive_class_probabilities = forest_test[:, 1]"
   ]
  },
  {
   "cell_type": "code",
   "execution_count": 28,
   "id": "7fa65be8-7ebc-4c78-8186-06c75d6112c2",
   "metadata": {},
   "outputs": [
    {
     "data": {
      "text/plain": [
       "array([1.        , 0.8368022 , 0.53180774, 0.75226713, 0.61375496,\n",
       "       0.79466467, 0.78382521, 0.75226713, 0.5163119 , 0.71274084,\n",
       "       0.63061178, 0.58214144, 0.55555234, 0.5377555 , 0.5163119 ,\n",
       "       0.44921225, 0.55408112, 0.61651011, 0.61651011, 0.5163119 ,\n",
       "       0.53333823, 0.38983831, 0.480144  , 0.63061178, 0.5163119 ,\n",
       "       0.55408112, 0.87144246, 0.67048009, 0.77068661, 0.55408112,\n",
       "       0.5377555 , 0.5163119 , 0.44921225, 0.38728579, 0.46923821,\n",
       "       0.92527075, 0.78382521, 0.53333823, 0.59628968, 0.36889258,\n",
       "       0.480144  , 0.44656815, 0.58214144, 0.61651011, 0.67048009,\n",
       "       1.        , 0.77068661, 0.55408112, 0.025     , 0.95088889,\n",
       "       0.5163119 , 0.64976369, 0.8368022 , 0.54700424, 0.5163119 ,\n",
       "       0.78382521, 0.51860894, 0.69754073, 0.60233069, 0.95470285,\n",
       "       0.63061178, 0.38983831, 0.79466467, 0.63061178, 0.53333823,\n",
       "       0.55555234, 0.5377555 , 0.8368022 , 0.7828856 , 0.58214144,\n",
       "       0.46905596, 0.64976369, 0.58214144, 0.02375   , 0.51860894,\n",
       "       0.41385181, 0.67048009, 0.53333823, 0.53333823, 0.38983831,\n",
       "       0.58214144, 0.55408112, 0.46923821, 0.71274084, 0.53333823,\n",
       "       0.60134878, 0.53180774, 0.53333823, 0.84062751, 0.55555234,\n",
       "       0.36697439, 0.58214144, 0.09594058, 0.86148521, 0.53333823,\n",
       "       0.38559921, 0.5163119 , 0.53180774, 0.09594058, 0.53333823,\n",
       "       0.59345916, 0.5377555 , 0.53333823, 0.55555234, 0.55555234,\n",
       "       0.67048009, 0.39938738, 0.53333823, 0.67048009, 0.67048009,\n",
       "       0.47868826, 0.58214144, 0.        , 0.53333823, 0.53333823,\n",
       "       0.53333823, 0.20056389, 0.25072222, 0.53333823, 0.29273138,\n",
       "       0.49085714, 0.82553319, 0.54700424, 1.        , 0.53180774,\n",
       "       0.58214144, 0.91859851, 0.78382521, 0.48647306, 0.41385181,\n",
       "       0.480144  , 0.53333823, 0.58214144, 0.05607143, 0.69422308,\n",
       "       0.38728579, 0.53333823, 0.39938738, 0.        , 0.97886905,\n",
       "       0.67726565, 0.36697439, 1.        , 1.        , 0.5377555 ,\n",
       "       0.53333823, 0.93935606, 0.76250243, 0.67726565, 0.53333823,\n",
       "       0.33798284, 0.47868826, 0.64976369, 0.64976369, 0.78382521,\n",
       "       0.5377555 , 0.61651011, 0.11079457, 0.71274084, 0.58214144,\n",
       "       0.5163119 , 0.53180774, 0.54700424, 0.39938738, 0.44921225,\n",
       "       0.77068661, 0.77068661, 0.12685571, 0.020625  , 0.44921225,\n",
       "       0.77068661, 0.58214144, 0.67726565, 0.77068661, 0.53180774,\n",
       "       0.41385181, 0.44921225, 0.58214144, 0.5377555 , 0.53180774,\n",
       "       0.67726565, 0.44921225, 0.23069824, 0.63061178, 0.67048009,\n",
       "       0.53180774, 0.53333823, 0.44143903, 0.70239961, 0.94009186,\n",
       "       0.02616959, 0.47868826, 0.53180774, 0.53180774, 0.48644029,\n",
       "       0.78382521, 0.79466467, 0.36889258, 0.64976369, 0.58214144,\n",
       "       0.53333823, 0.73849588, 0.78939394, 0.53180774, 0.58214144,\n",
       "       0.59628968, 0.53180774, 0.02616959, 0.75226713, 0.64976369,\n",
       "       0.63061178, 0.53180774, 0.63061178, 0.51860894, 0.67048009,\n",
       "       0.38728579, 0.5377555 , 0.77068661, 0.19912517, 0.8794709 ,\n",
       "       0.53180774, 0.60233069, 0.66475853, 0.64517271, 0.53180774,\n",
       "       0.77068661, 0.64976369, 0.44656815, 0.78382521, 0.55408112,\n",
       "       0.67048009, 0.50499206, 0.67726565, 0.76250243, 0.53333823,\n",
       "       0.53180774, 0.5163119 , 0.95470285, 0.59628968, 0.78382521,\n",
       "       0.66701335, 0.53333823, 0.5163119 , 0.24210714, 0.5163119 ,\n",
       "       0.5377555 , 0.94009186, 0.62774188, 0.48644029, 0.18045646,\n",
       "       0.61377957, 0.1232331 , 0.58214144, 0.55555234, 0.58214144,\n",
       "       0.61377957, 0.05233333, 0.24960029, 0.61375496, 0.58214144,\n",
       "       0.99055556, 0.75561905, 0.53333823, 0.74112324, 0.39938738,\n",
       "       0.77068661, 0.44921225, 0.58214144, 1.        , 0.39938738,\n",
       "       0.66475853, 0.39938738, 0.20056389, 0.53333823, 0.04116667,\n",
       "       0.32565152, 0.38695446, 0.67048009, 0.5163119 , 0.51860894,\n",
       "       0.39938738, 0.44921225, 0.2287122 , 0.75226713, 0.84062751,\n",
       "       0.53333823, 0.58214144, 0.71274084, 0.78382521, 0.53333823,\n",
       "       1.        , 0.61651011, 0.58214144, 0.36889258, 0.53333823,\n",
       "       0.47868826, 0.67048009, 0.77068661, 0.59628968, 0.78382521,\n",
       "       0.79884848, 0.53180774, 0.58214144, 0.61651011, 0.58214144,\n",
       "       0.36889258, 1.        , 0.71397034, 0.46905596, 0.61375496,\n",
       "       0.5377555 , 0.58214144, 0.53333823, 0.11079457, 0.67048009,\n",
       "       0.71397034, 0.75226713, 0.5163119 , 0.53180774, 0.67048009,\n",
       "       0.55408112, 0.67048009, 0.60233069, 0.986     , 0.5163119 ,\n",
       "       0.81314214, 0.44167043, 0.67048009, 0.5163119 , 0.92527075,\n",
       "       0.5377555 , 0.53180774, 0.58214144, 0.86437658, 0.67726565,\n",
       "       0.5377555 , 0.97555643, 0.95470285, 0.38728579, 0.31157143,\n",
       "       0.8160119 , 0.59628968, 0.92527075, 0.86148521, 0.69422308,\n",
       "       0.78382521, 0.66649453])"
      ]
     },
     "execution_count": 28,
     "metadata": {},
     "output_type": "execute_result"
    }
   ],
   "source": [
    "positive_class_probabilities"
   ]
  },
  {
   "cell_type": "code",
   "execution_count": 29,
   "id": "df20d806-151f-4980-8dd0-e1907a93366b",
   "metadata": {},
   "outputs": [],
   "source": [
    "# with tf.device('/cpu:0'):\n",
    "\n",
    "#     filename = \"LUNA/HF_comorbidities_test.tfrecords\"\n",
    "    \n",
    "#     raw_dataset = tf.data.TFRecordDataset(filename)\n",
    "#     X_train = []\n",
    "#     Y_train = []\n",
    "#     i=0\n",
    "#     for raw_record in raw_dataset:\n",
    "#         sub_y = []\n",
    "    \n",
    "#         example = tf.train.Example()\n",
    "#         example.ParseFromString(raw_record.numpy())\n",
    "    \n",
    "#         nparr = np.fromstring(example.features.feature['jpg_bytes'].bytes_list.value[0], np.uint8)\n",
    "#         # img_np = cv.imdecode(nparr, cv.IMREAD_GRAYSCALE)\n",
    "#         img_np = cv.imdecode(nparr, cv.IMREAD_COLOR)\n",
    "#         # img_np = cv.imdecode(nparr, cv.COLOR_BGR2RGB)\n",
    "#         X_train.append(img_np)\n",
    "#         # Y_train.append(sub_y)\n",
    "    \n",
    "#         # img_np = cv.imdecode(nparr, cv.IMREAD_GRAYSCALE)\n",
    "#         # plt.imshow(img_np, cmap='gray')\n",
    "#         # plt.show()\n",
    "    \n",
    "#     X_train = np.array(X_train)\n",
    "#     # Y_train = np.array(Y_train)\n",
    "#     X_train = X_train.reshape(X_train.shape[0],X_train.shape[1],X_train.shape[2],-1)\n",
    "#     # Y_train = Y_train.astype(np.float64)\n",
    "#     # print(Y_train.shape)"
   ]
  },
  {
   "cell_type": "code",
   "execution_count": 30,
   "id": "d33e98db-5b89-4b8a-9aa6-a08aeb4faee8",
   "metadata": {},
   "outputs": [],
   "source": [
    "# X_train.shape"
   ]
  },
  {
   "cell_type": "code",
   "execution_count": null,
   "id": "cdce8a05-4677-4749-ae8e-53b6b6406cf6",
   "metadata": {},
   "outputs": [],
   "source": []
  }
 ],
 "metadata": {
  "kernelspec": {
   "display_name": "test",
   "language": "python",
   "name": "test"
  },
  "language_info": {
   "codemirror_mode": {
    "name": "ipython",
    "version": 3
   },
   "file_extension": ".py",
   "mimetype": "text/x-python",
   "name": "python",
   "nbconvert_exporter": "python",
   "pygments_lexer": "ipython3",
   "version": "3.9.18"
  }
 },
 "nbformat": 4,
 "nbformat_minor": 5
}
